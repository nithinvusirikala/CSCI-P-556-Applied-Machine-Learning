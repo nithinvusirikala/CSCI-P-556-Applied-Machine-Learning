{
 "cells": [
  {
   "cell_type": "markdown",
   "id": "6a487b9a",
   "metadata": {},
   "source": [
    "<h1> HW 2 by nnvusiri</h1>\n",
    "<h2> Problem 1</h2>"
   ]
  },
  {
   "cell_type": "code",
   "execution_count": 1,
   "id": "2ad332e9",
   "metadata": {},
   "outputs": [],
   "source": [
    "#importing relevant libraries\n",
    "\n",
    "import pandas as pd\n",
    "import numpy as np\n",
    "import scipy as sp\n",
    "from scipy import stats\n",
    "import math,statistics\n",
    "from sklearn import datasets, linear_model\n",
    "from sklearn.metrics import mean_squared_error, r2_score\n",
    "from sklearn.linear_model import ElasticNet\n",
    "from sklearn.datasets import make_regression\n",
    "from sklearn.model_selection import train_test_split\n",
    "from sklearn.compose import ColumnTransformer\n",
    "from sklearn.preprocessing import OneHotEncoder\n",
    "from sklearn.naive_bayes import MultinomialNB\n",
    "from sklearn.model_selection import train_test_split"
   ]
  },
  {
   "cell_type": "code",
   "execution_count": 2,
   "id": "a1ba6c7b",
   "metadata": {},
   "outputs": [],
   "source": [
    "#import dataset for training \n",
    "\n",
    "from sklearn.datasets import load_breast_cancer\n",
    "data = load_breast_cancer()\n",
    "data_features=pd.DataFrame(data.data, columns = data.feature_names)\n",
    "data_target = (data.target)"
   ]
  },
  {
   "cell_type": "code",
   "execution_count": 3,
   "id": "ab34bfef",
   "metadata": {
    "scrolled": true
   },
   "outputs": [
    {
     "data": {
      "text/html": [
       "<div>\n",
       "<style scoped>\n",
       "    .dataframe tbody tr th:only-of-type {\n",
       "        vertical-align: middle;\n",
       "    }\n",
       "\n",
       "    .dataframe tbody tr th {\n",
       "        vertical-align: top;\n",
       "    }\n",
       "\n",
       "    .dataframe thead th {\n",
       "        text-align: right;\n",
       "    }\n",
       "</style>\n",
       "<table border=\"1\" class=\"dataframe\">\n",
       "  <thead>\n",
       "    <tr style=\"text-align: right;\">\n",
       "      <th></th>\n",
       "      <th>mean radius</th>\n",
       "      <th>mean texture</th>\n",
       "      <th>mean perimeter</th>\n",
       "      <th>mean area</th>\n",
       "      <th>mean smoothness</th>\n",
       "      <th>mean compactness</th>\n",
       "      <th>mean concavity</th>\n",
       "      <th>mean concave points</th>\n",
       "      <th>mean symmetry</th>\n",
       "      <th>mean fractal dimension</th>\n",
       "      <th>...</th>\n",
       "      <th>worst radius</th>\n",
       "      <th>worst texture</th>\n",
       "      <th>worst perimeter</th>\n",
       "      <th>worst area</th>\n",
       "      <th>worst smoothness</th>\n",
       "      <th>worst compactness</th>\n",
       "      <th>worst concavity</th>\n",
       "      <th>worst concave points</th>\n",
       "      <th>worst symmetry</th>\n",
       "      <th>worst fractal dimension</th>\n",
       "    </tr>\n",
       "  </thead>\n",
       "  <tbody>\n",
       "    <tr>\n",
       "      <th>0</th>\n",
       "      <td>17.99</td>\n",
       "      <td>10.38</td>\n",
       "      <td>122.80</td>\n",
       "      <td>1001.0</td>\n",
       "      <td>0.11840</td>\n",
       "      <td>0.27760</td>\n",
       "      <td>0.3001</td>\n",
       "      <td>0.14710</td>\n",
       "      <td>0.2419</td>\n",
       "      <td>0.07871</td>\n",
       "      <td>...</td>\n",
       "      <td>25.38</td>\n",
       "      <td>17.33</td>\n",
       "      <td>184.60</td>\n",
       "      <td>2019.0</td>\n",
       "      <td>0.1622</td>\n",
       "      <td>0.6656</td>\n",
       "      <td>0.7119</td>\n",
       "      <td>0.2654</td>\n",
       "      <td>0.4601</td>\n",
       "      <td>0.11890</td>\n",
       "    </tr>\n",
       "    <tr>\n",
       "      <th>1</th>\n",
       "      <td>20.57</td>\n",
       "      <td>17.77</td>\n",
       "      <td>132.90</td>\n",
       "      <td>1326.0</td>\n",
       "      <td>0.08474</td>\n",
       "      <td>0.07864</td>\n",
       "      <td>0.0869</td>\n",
       "      <td>0.07017</td>\n",
       "      <td>0.1812</td>\n",
       "      <td>0.05667</td>\n",
       "      <td>...</td>\n",
       "      <td>24.99</td>\n",
       "      <td>23.41</td>\n",
       "      <td>158.80</td>\n",
       "      <td>1956.0</td>\n",
       "      <td>0.1238</td>\n",
       "      <td>0.1866</td>\n",
       "      <td>0.2416</td>\n",
       "      <td>0.1860</td>\n",
       "      <td>0.2750</td>\n",
       "      <td>0.08902</td>\n",
       "    </tr>\n",
       "    <tr>\n",
       "      <th>2</th>\n",
       "      <td>19.69</td>\n",
       "      <td>21.25</td>\n",
       "      <td>130.00</td>\n",
       "      <td>1203.0</td>\n",
       "      <td>0.10960</td>\n",
       "      <td>0.15990</td>\n",
       "      <td>0.1974</td>\n",
       "      <td>0.12790</td>\n",
       "      <td>0.2069</td>\n",
       "      <td>0.05999</td>\n",
       "      <td>...</td>\n",
       "      <td>23.57</td>\n",
       "      <td>25.53</td>\n",
       "      <td>152.50</td>\n",
       "      <td>1709.0</td>\n",
       "      <td>0.1444</td>\n",
       "      <td>0.4245</td>\n",
       "      <td>0.4504</td>\n",
       "      <td>0.2430</td>\n",
       "      <td>0.3613</td>\n",
       "      <td>0.08758</td>\n",
       "    </tr>\n",
       "    <tr>\n",
       "      <th>3</th>\n",
       "      <td>11.42</td>\n",
       "      <td>20.38</td>\n",
       "      <td>77.58</td>\n",
       "      <td>386.1</td>\n",
       "      <td>0.14250</td>\n",
       "      <td>0.28390</td>\n",
       "      <td>0.2414</td>\n",
       "      <td>0.10520</td>\n",
       "      <td>0.2597</td>\n",
       "      <td>0.09744</td>\n",
       "      <td>...</td>\n",
       "      <td>14.91</td>\n",
       "      <td>26.50</td>\n",
       "      <td>98.87</td>\n",
       "      <td>567.7</td>\n",
       "      <td>0.2098</td>\n",
       "      <td>0.8663</td>\n",
       "      <td>0.6869</td>\n",
       "      <td>0.2575</td>\n",
       "      <td>0.6638</td>\n",
       "      <td>0.17300</td>\n",
       "    </tr>\n",
       "    <tr>\n",
       "      <th>4</th>\n",
       "      <td>20.29</td>\n",
       "      <td>14.34</td>\n",
       "      <td>135.10</td>\n",
       "      <td>1297.0</td>\n",
       "      <td>0.10030</td>\n",
       "      <td>0.13280</td>\n",
       "      <td>0.1980</td>\n",
       "      <td>0.10430</td>\n",
       "      <td>0.1809</td>\n",
       "      <td>0.05883</td>\n",
       "      <td>...</td>\n",
       "      <td>22.54</td>\n",
       "      <td>16.67</td>\n",
       "      <td>152.20</td>\n",
       "      <td>1575.0</td>\n",
       "      <td>0.1374</td>\n",
       "      <td>0.2050</td>\n",
       "      <td>0.4000</td>\n",
       "      <td>0.1625</td>\n",
       "      <td>0.2364</td>\n",
       "      <td>0.07678</td>\n",
       "    </tr>\n",
       "  </tbody>\n",
       "</table>\n",
       "<p>5 rows × 30 columns</p>\n",
       "</div>"
      ],
      "text/plain": [
       "   mean radius  mean texture  mean perimeter  mean area  mean smoothness  \\\n",
       "0        17.99         10.38          122.80     1001.0          0.11840   \n",
       "1        20.57         17.77          132.90     1326.0          0.08474   \n",
       "2        19.69         21.25          130.00     1203.0          0.10960   \n",
       "3        11.42         20.38           77.58      386.1          0.14250   \n",
       "4        20.29         14.34          135.10     1297.0          0.10030   \n",
       "\n",
       "   mean compactness  mean concavity  mean concave points  mean symmetry  \\\n",
       "0           0.27760          0.3001              0.14710         0.2419   \n",
       "1           0.07864          0.0869              0.07017         0.1812   \n",
       "2           0.15990          0.1974              0.12790         0.2069   \n",
       "3           0.28390          0.2414              0.10520         0.2597   \n",
       "4           0.13280          0.1980              0.10430         0.1809   \n",
       "\n",
       "   mean fractal dimension  ...  worst radius  worst texture  worst perimeter  \\\n",
       "0                 0.07871  ...         25.38          17.33           184.60   \n",
       "1                 0.05667  ...         24.99          23.41           158.80   \n",
       "2                 0.05999  ...         23.57          25.53           152.50   \n",
       "3                 0.09744  ...         14.91          26.50            98.87   \n",
       "4                 0.05883  ...         22.54          16.67           152.20   \n",
       "\n",
       "   worst area  worst smoothness  worst compactness  worst concavity  \\\n",
       "0      2019.0            0.1622             0.6656           0.7119   \n",
       "1      1956.0            0.1238             0.1866           0.2416   \n",
       "2      1709.0            0.1444             0.4245           0.4504   \n",
       "3       567.7            0.2098             0.8663           0.6869   \n",
       "4      1575.0            0.1374             0.2050           0.4000   \n",
       "\n",
       "   worst concave points  worst symmetry  worst fractal dimension  \n",
       "0                0.2654          0.4601                  0.11890  \n",
       "1                0.1860          0.2750                  0.08902  \n",
       "2                0.2430          0.3613                  0.08758  \n",
       "3                0.2575          0.6638                  0.17300  \n",
       "4                0.1625          0.2364                  0.07678  \n",
       "\n",
       "[5 rows x 30 columns]"
      ]
     },
     "execution_count": 3,
     "metadata": {},
     "output_type": "execute_result"
    }
   ],
   "source": [
    "data_features.head()"
   ]
  },
  {
   "cell_type": "code",
   "execution_count": 4,
   "id": "fb53c3ca",
   "metadata": {},
   "outputs": [
    {
     "data": {
      "text/plain": [
       "(569, 30)"
      ]
     },
     "execution_count": 4,
     "metadata": {},
     "output_type": "execute_result"
    }
   ],
   "source": [
    "data_features.shape"
   ]
  },
  {
   "cell_type": "code",
   "execution_count": 5,
   "id": "8a2105e5",
   "metadata": {},
   "outputs": [],
   "source": [
    "#converting the data to np array for better performance\n",
    "\n",
    "data_features2=np.array(data_features)"
   ]
  },
  {
   "cell_type": "code",
   "execution_count": 6,
   "id": "34f242f7",
   "metadata": {},
   "outputs": [],
   "source": [
    "#function to calculate euclidean distance with the current assigned centroids\n",
    "\n",
    "def eucd_distance(centroid,traininginstance):\n",
    "    return np.linalg.norm(traininginstance-centroid)"
   ]
  },
  {
   "cell_type": "code",
   "execution_count": 7,
   "id": "d7d2d9b8",
   "metadata": {},
   "outputs": [],
   "source": [
    "#function to compute the new clusters with the current assignment of clusters\n",
    "\n",
    "def averagecentroids(data,clusters,k):\n",
    "    new_centers=[]\n",
    "    for i in range(k):\n",
    "        temp=data[clusters==i].mean(axis=0)\n",
    "        new_centers.append(temp)\n",
    "    return np.array(new_centers)"
   ]
  },
  {
   "cell_type": "code",
   "execution_count": 8,
   "id": "4f18d34d",
   "metadata": {},
   "outputs": [],
   "source": [
    "#function to do cluster assignment given the data, centers and number of centers\n",
    "\n",
    "def clusterassignment(data,centroids,k):\n",
    "    nrows=data.shape[0]\n",
    "    clusters=[]\n",
    "    for point in data:\n",
    "        distances=[eucd_distance(centroid,point) for centroid in centroids]\n",
    "        clusters.append(distances.index(min(distances)))\n",
    "    return np.array(clusters)"
   ]
  },
  {
   "cell_type": "code",
   "execution_count": 9,
   "id": "30f34238",
   "metadata": {},
   "outputs": [],
   "source": [
    "#function to run the algorithm with a random inialization from the dataset and assign the clusters till it converges.\n",
    "\n",
    "def kmeansalgorithm(data,k=5):\n",
    "    nrows = data.shape[0]\n",
    "    krand = np.random.choice(nrows,k,replace=False)\n",
    "    data_centroids = data[krand,:]\n",
    "    clusters=[-1]*nrows\n",
    "    i=0\n",
    "    while(True):\n",
    "        clusters=clusterassignment(data,data_centroids,k)\n",
    "        prev_data_centroids=data_centroids\n",
    "        data_centroids=averagecentroids(data,clusters,k)\n",
    "        if(np.array_equal(prev_data_centroids,data_centroids)):\n",
    "            print(\"Converged at {}th iteration\".format(i))\n",
    "            break\n",
    "        i+=1\n",
    "    return clusters"
   ]
  },
  {
   "cell_type": "code",
   "execution_count": 10,
   "id": "5f21272a",
   "metadata": {},
   "outputs": [],
   "source": [
    "#function for calculating accuracy based on the target information\n",
    "\n",
    "def accuracy(clusters,targets):\n",
    "    corrects=(clusters==targets)\n",
    "    return sum(corrects)/len(corrects)"
   ]
  },
  {
   "cell_type": "code",
   "execution_count": 11,
   "id": "98682390",
   "metadata": {
    "scrolled": true
   },
   "outputs": [
    {
     "name": "stdout",
     "output_type": "stream",
     "text": [
      "Converged at 6th iteration\n"
     ]
    }
   ],
   "source": [
    "#run the kmeans algorithm with k-2, I converted the features to np.array for getting better performance.\n",
    "\n",
    "data_clusters=kmeansalgorithm(data_features2,k=2)"
   ]
  },
  {
   "cell_type": "code",
   "execution_count": 12,
   "id": "f6311fe4",
   "metadata": {
    "scrolled": true
   },
   "outputs": [
    {
     "data": {
      "text/plain": [
       "0.8541300527240774"
      ]
     },
     "execution_count": 12,
     "metadata": {},
     "output_type": "execute_result"
    }
   ],
   "source": [
    "accuracy(data_clusters,data_target)"
   ]
  },
  {
   "cell_type": "code",
   "execution_count": 13,
   "id": "261d6ade",
   "metadata": {},
   "outputs": [],
   "source": [
    "#the whole package of the algorithm to do multiple intializations and check the accuracies with each initialization\n",
    "\n",
    "def kmeans(data,targets,k,intl=10):\n",
    "    clusters=[]\n",
    "    for iter in range(intl):\n",
    "        current=kmeansalgorithm(data,k)\n",
    "        clusters.append(current)\n",
    "        print(accuracy(current,targets))\n",
    "    return np.array(clusters)    "
   ]
  },
  {
   "cell_type": "code",
   "execution_count": 14,
   "id": "f85e7332",
   "metadata": {},
   "outputs": [
    {
     "name": "stdout",
     "output_type": "stream",
     "text": [
      "Converged at 5th iteration\n",
      "0.14586994727592267\n",
      "Converged at 7th iteration\n",
      "0.14586994727592267\n",
      "Converged at 3th iteration\n",
      "0.8541300527240774\n",
      "Converged at 2th iteration\n",
      "0.14586994727592267\n",
      "Converged at 5th iteration\n",
      "0.14586994727592267\n",
      "Converged at 9th iteration\n",
      "0.8541300527240774\n",
      "Converged at 5th iteration\n",
      "0.14586994727592267\n",
      "Converged at 6th iteration\n",
      "0.8541300527240774\n",
      "Converged at 7th iteration\n",
      "0.14586994727592267\n",
      "Converged at 6th iteration\n",
      "0.8541300527240774\n"
     ]
    }
   ],
   "source": [
    "out=kmeans(data_features2,data_target,k=2,intl=10)"
   ]
  },
  {
   "cell_type": "markdown",
   "id": "0ac426ca",
   "metadata": {},
   "source": [
    "We see that accuracy is juggling between 14.5% and 85.5%. Because clusters identified are in reverse order which we don't have control of. Since there are only 2 clusters, sometimes the assignment reverses, and so the accuracies."
   ]
  },
  {
   "cell_type": "markdown",
   "id": "66dbf794",
   "metadata": {},
   "source": [
    "<h2> Problem 2 </h2>"
   ]
  },
  {
   "cell_type": "code",
   "execution_count": 15,
   "id": "7bfadaa7",
   "metadata": {},
   "outputs": [],
   "source": [
    "#Given f1 function\n",
    "\n",
    "def f1(x,y):\n",
    "    return (x-2)**2+(y-3)**2"
   ]
  },
  {
   "cell_type": "code",
   "execution_count": 16,
   "id": "1d2847e7",
   "metadata": {},
   "outputs": [],
   "source": [
    "#partial derivative of f1 w.r.t x\n",
    "     \n",
    "def df1dx(x,y):\n",
    "    return 2*(x-2)"
   ]
  },
  {
   "cell_type": "code",
   "execution_count": 17,
   "id": "2a37ab13",
   "metadata": {},
   "outputs": [],
   "source": [
    "#partial derivative of f1 w.r.t y\n",
    "\n",
    "def df1dy(x,y):\n",
    "    return 2*(y-3)"
   ]
  },
  {
   "cell_type": "code",
   "execution_count": 18,
   "id": "4216133d",
   "metadata": {},
   "outputs": [],
   "source": [
    "#creating the array for gradf1\n",
    "\n",
    "def gradf1(x,y):\n",
    "    return np.array([df1dx(x,y),df1dy(x,y)])"
   ]
  },
  {
   "cell_type": "code",
   "execution_count": 19,
   "id": "e6e5d129",
   "metadata": {},
   "outputs": [
    {
     "data": {
      "text/plain": [
       "2"
      ]
     },
     "execution_count": 19,
     "metadata": {},
     "output_type": "execute_result"
    }
   ],
   "source": [
    "f1(3,4)"
   ]
  },
  {
   "cell_type": "code",
   "execution_count": 20,
   "id": "7529b19a",
   "metadata": {},
   "outputs": [
    {
     "data": {
      "text/plain": [
       "array([2, 2])"
      ]
     },
     "execution_count": 20,
     "metadata": {},
     "output_type": "execute_result"
    }
   ],
   "source": [
    "gradf1(3,4)"
   ]
  },
  {
   "cell_type": "code",
   "execution_count": 21,
   "id": "4d3c73cb",
   "metadata": {},
   "outputs": [],
   "source": [
    "x=0\n",
    "y=5\n",
    "h=0.001"
   ]
  },
  {
   "cell_type": "code",
   "execution_count": 22,
   "id": "1764522d",
   "metadata": {},
   "outputs": [
    {
     "data": {
      "text/plain": [
       "4.00000000000178e-06"
      ]
     },
     "execution_count": 22,
     "metadata": {},
     "output_type": "execute_result"
    }
   ],
   "source": [
    "(f1(x,y+h)-f1(x,y-h))/2*h"
   ]
  },
  {
   "cell_type": "code",
   "execution_count": 23,
   "id": "827f4e78",
   "metadata": {},
   "outputs": [
    {
     "data": {
      "text/plain": [
       "4"
      ]
     },
     "execution_count": 23,
     "metadata": {},
     "output_type": "execute_result"
    }
   ],
   "source": [
    "#checking the value for a particular point if matching with taylor's approximation\n",
    "\n",
    "df1dy(x,y)"
   ]
  },
  {
   "cell_type": "code",
   "execution_count": 24,
   "id": "5e0f4ac4",
   "metadata": {},
   "outputs": [
    {
     "data": {
      "text/plain": [
       "array([196, 154])"
      ]
     },
     "execution_count": 24,
     "metadata": {},
     "output_type": "execute_result"
    }
   ],
   "source": [
    "gradf1(100,80)"
   ]
  },
  {
   "cell_type": "code",
   "execution_count": 25,
   "id": "c24867af",
   "metadata": {},
   "outputs": [],
   "source": [
    "#function to compute the gradient descent with alpha learning rate and max_iter iterations \n",
    "#with stop criteria as <10^-5 for ||tn+1-tn||\n",
    "\n",
    "def grad_descent(f, gradf, init_t, alpha,max_iter):\n",
    "    EPS = 1e-5\n",
    "    prev_t = init_t-10*EPS\n",
    "    t = init_t.copy()\n",
    "    \n",
    "    iter = 0\n",
    "    while np.linalg.norm(t - prev_t) > EPS and iter < max_iter:\n",
    "        print (iter,t, f(t[0], t[1]), gradf(t[0], t[1]))\n",
    "        prev_t = t.copy()\n",
    "        t -= alpha*gradf(t[0], t[1])\n",
    "        iter += 1\n",
    "        \n",
    "    return t"
   ]
  },
  {
   "cell_type": "code",
   "execution_count": 26,
   "id": "ded1da5b",
   "metadata": {},
   "outputs": [
    {
     "name": "stdout",
     "output_type": "stream",
     "text": [
      "0 [0. 0.] 13.0 [-4. -6.]\n",
      "1 [2. 3.] 0.0 [0. 0.]\n"
     ]
    },
    {
     "data": {
      "text/plain": [
       "array([2., 3.])"
      ]
     },
     "execution_count": 26,
     "metadata": {},
     "output_type": "execute_result"
    }
   ],
   "source": [
    "#computing the gradient descent for the first function with 0,0 as the intitalization \n",
    "#and 0.5 as learning rate with maximum iterations as 10\n",
    "\n",
    "grad_descent(f1, gradf1, np.array([0.0, 0.0]), 0.5,10)"
   ]
  },
  {
   "cell_type": "code",
   "execution_count": 27,
   "id": "956c6acb",
   "metadata": {},
   "outputs": [],
   "source": [
    "#method for the second function\n",
    "\n",
    "def r(x,y):\n",
    "    return ((x+3)-(y-3)**2)"
   ]
  },
  {
   "cell_type": "code",
   "execution_count": 28,
   "id": "939fb5f8",
   "metadata": {},
   "outputs": [],
   "source": [
    "#second function\n",
    "\n",
    "def f2(x,y):\n",
    "    return (1-(y-3))**2 + 20*(r(x,y))**2"
   ]
  },
  {
   "cell_type": "code",
   "execution_count": 29,
   "id": "a64338a6",
   "metadata": {},
   "outputs": [
    {
     "data": {
      "text/plain": [
       "7.790039316551947"
      ]
     },
     "execution_count": 29,
     "metadata": {},
     "output_type": "execute_result"
    }
   ],
   "source": [
    "f2(0.20792481, 1.20893581)"
   ]
  },
  {
   "cell_type": "code",
   "execution_count": 30,
   "id": "b2db85a8",
   "metadata": {},
   "outputs": [],
   "source": [
    "#partial derivative w.r.t x for f2\n",
    "\n",
    "def df2dx(x,y):\n",
    "    return 40*(r(x,y))"
   ]
  },
  {
   "cell_type": "code",
   "execution_count": 31,
   "id": "97b8083c",
   "metadata": {},
   "outputs": [],
   "source": [
    "#partial derivative w.r.t y for f2\n",
    "\n",
    "def df2dy(x,y):\n",
    "    return (2*y-8)-80*(y-3)*(r(x,y))"
   ]
  },
  {
   "cell_type": "code",
   "execution_count": 32,
   "id": "82c747d2",
   "metadata": {},
   "outputs": [],
   "source": [
    "#grad function for f2\n",
    "\n",
    "def gradf2(x,y):\n",
    "    return np.array([df2dx(x,y),df2dy(x,y)])"
   ]
  },
  {
   "cell_type": "code",
   "execution_count": 33,
   "id": "910c8e1c",
   "metadata": {},
   "outputs": [],
   "source": [
    "#second derivative for f2 w.r.t x\n",
    "\n",
    "def df2dx2(x,y):\n",
    "    return 40"
   ]
  },
  {
   "cell_type": "code",
   "execution_count": 34,
   "id": "04a61d54",
   "metadata": {},
   "outputs": [],
   "source": [
    "#second derivative for f2 w.r.t y\n",
    "\n",
    "def df2dy2(x,y):\n",
    "    return 2-80*(r(x,y)-2*(y-3)**2)"
   ]
  },
  {
   "cell_type": "code",
   "execution_count": 35,
   "id": "1846fa16",
   "metadata": {},
   "outputs": [],
   "source": [
    "#second derivative for f2 w.r.t y\n",
    "\n",
    "def df2dxdy(x,y):\n",
    "    return -80*(y-3)"
   ]
  },
  {
   "cell_type": "code",
   "execution_count": 36,
   "id": "5dca25b6",
   "metadata": {},
   "outputs": [],
   "source": [
    "#computing hessian matrix for the newton's method\n",
    "\n",
    "def hinv(x,y):\n",
    "    a=df2dx2(x,y)\n",
    "    b=df2dxdy(x,y)\n",
    "    c=df2dxdy(x,y)\n",
    "    d=df2dy2(x,y)\n",
    "    factor = 1/((a*d)-(b*c))\n",
    "    matrix =np.array([[d,-1*b],[-1*c,a]])\n",
    "    return factor*matrix"
   ]
  },
  {
   "cell_type": "code",
   "execution_count": 37,
   "id": "3372132f",
   "metadata": {},
   "outputs": [
    {
     "data": {
      "text/plain": [
       "array([-0.00015723, -0.01257862])"
      ]
     },
     "execution_count": 37,
     "metadata": {},
     "output_type": "execute_result"
    }
   ],
   "source": [
    "np.matmul(hinv(2,4),[1,2])"
   ]
  },
  {
   "cell_type": "code",
   "execution_count": 38,
   "id": "77b8c379",
   "metadata": {},
   "outputs": [],
   "source": [
    "def newtons_method(f,gradf,hinv,init_t, max_iter):\n",
    "    EPS = 1e-4\n",
    "    prev_t = init_t-10*EPS\n",
    "    t = init_t.copy()\n",
    "    \n",
    "    iter = 0\n",
    "    while np.linalg.norm(t - prev_t) > EPS and iter < max_iter:\n",
    "        print (iter,t,f(t[0], t[1]))\n",
    "        #print(hinv(t[0],t[1]))\n",
    "        prev_t = t.copy()\n",
    "        t -= np.matmul(hinv(t[0],t[1]),gradf(t[0], t[1]))\n",
    "        #print (iter,t,f(t[0], t[1]))\n",
    "        iter += 1\n",
    "        \n",
    "    return t"
   ]
  },
  {
   "cell_type": "code",
   "execution_count": 39,
   "id": "91eeb422",
   "metadata": {
    "scrolled": false
   },
   "outputs": [
    {
     "name": "stdout",
     "output_type": "stream",
     "text": [
      "0 [0. 0.] 736.0\n",
      "1 [5.90041494 0.01659751] 15.867496912118456\n",
      "2 [-17.60844601   3.95658491] 4819.583362465591\n",
      "3 [-2.08481176  3.95665471] 0.0018788137904998895\n",
      "4 [-2.00187883  3.99999999] 7.05987701445199e-05\n",
      "5 [-2.  4.] 3.4875434835545694e-19\n"
     ]
    }
   ],
   "source": [
    "opt=newtons_method(f2, gradf2,hinv,np.array([0.0,0.0]),100)"
   ]
  },
  {
   "cell_type": "code",
   "execution_count": 40,
   "id": "c243f2e7",
   "metadata": {},
   "outputs": [
    {
     "data": {
      "text/plain": [
       "0.0"
      ]
     },
     "execution_count": 40,
     "metadata": {},
     "output_type": "execute_result"
    }
   ],
   "source": [
    "f2(opt[0],opt[1])"
   ]
  },
  {
   "cell_type": "code",
   "execution_count": 41,
   "id": "1fdf4036",
   "metadata": {},
   "outputs": [],
   "source": [
    "import matplotlib.pyplot as plt\n",
    "%matplotlib inline  \n",
    "\n",
    "from numpy import *\n",
    "from numpy.linalg import norm\n",
    "\n",
    "from mpl_toolkits.mplot3d import Axes3D\n",
    "from matplotlib import cm\n",
    "from matplotlib.ticker import LinearLocator, FormatStrFormatter\n",
    "from matplotlib.pyplot import *\n",
    "from numpy import *\n",
    "\n",
    "x = arange(-10, 10, 0.1)\n",
    "y = arange(-5,10, 0.1)\n",
    "X, Y = meshgrid(x, y)\n",
    "zs = np.array([f2(x,y) for x,y in zip(np.ravel(X), np.ravel(Y))])\n",
    "Z = zs.reshape(X.shape)\n",
    "#R=((X+3)-(Y-3)**2)\n",
    "#Z=(1-(Y-3))**2 + 20*((R)**2)"
   ]
  },
  {
   "cell_type": "code",
   "execution_count": 42,
   "id": "546dee71",
   "metadata": {},
   "outputs": [
    {
     "data": {
      "image/png": "[encoded data removed]",
      "text/plain": [
       "<Figure size 1080x1080 with 4 Axes>"
      ]
     },
     "metadata": {
      "needs_background": "light"
     },
     "output_type": "display_data"
    }
   ],
   "source": [
    "fig = plt.figure(figsize=(15,15))\n",
    "ax = fig.add_subplot(221, projection='3d')\n",
    "p1=ax.plot_surface(X, Y, Z,cstride=1, cmap=cm.coolwarm,\n",
    "                       linewidth=0, antialiased=False)\n",
    "\n",
    "ax.set_xlabel('x')\n",
    "ax.set_ylabel('y')\n",
    "ax.set_zlabel('f(x,y)')\n",
    "ax.view_init(20, 30)\n",
    "\n",
    "fig.colorbar(p1, shrink=0.2, aspect=10)\n",
    "\n",
    "ax = fig.add_subplot(222, projection='3d')\n",
    "ax.plot_surface(X, Y, Z,cstride=1, cmap=cm.coolwarm,\n",
    "                       linewidth=0, antialiased=False)\n",
    "\n",
    "\n",
    "\n",
    "ax.set_xlabel('x')\n",
    "ax.set_ylabel('y')\n",
    "ax.set_zlabel('f(x,y)')\n",
    "\n",
    "ax = fig.add_subplot(223, projection='3d')\n",
    "ax.plot_surface(X, Y, Z,cstride=1, cmap=cm.coolwarm,\n",
    "                       linewidth=0, antialiased=False)\n",
    "\n",
    "\n",
    "\n",
    "ax.set_xlabel('x')\n",
    "ax.set_ylabel('y')\n",
    "ax.set_zlabel('f(x,y)')\n",
    "ax.view_init(20, -150)\n",
    "\n",
    "plt.show()"
   ]
  },
  {
   "cell_type": "code",
   "execution_count": 43,
   "id": "8502b08e",
   "metadata": {},
   "outputs": [
    {
     "data": {
      "text/plain": [
       "(90, 80)"
      ]
     },
     "execution_count": 43,
     "metadata": {},
     "output_type": "execute_result"
    }
   ],
   "source": [
    "np.unravel_index(np.argmin(Z, axis=None), Z.shape)"
   ]
  },
  {
   "cell_type": "code",
   "execution_count": 44,
   "id": "dbd7ab96",
   "metadata": {},
   "outputs": [
    {
     "data": {
      "text/plain": [
       "-9.8"
      ]
     },
     "execution_count": 44,
     "metadata": {},
     "output_type": "execute_result"
    }
   ],
   "source": [
    "X[39,2]"
   ]
  },
  {
   "cell_type": "code",
   "execution_count": 45,
   "id": "05fcaed9",
   "metadata": {},
   "outputs": [
    {
     "data": {
      "text/plain": [
       "-1.1000000000000139"
      ]
     },
     "execution_count": 45,
     "metadata": {},
     "output_type": "execute_result"
    }
   ],
   "source": [
    "Y[39,2]"
   ]
  },
  {
   "cell_type": "code",
   "execution_count": 46,
   "id": "9f3c0935",
   "metadata": {
    "scrolled": true
   },
   "outputs": [
    {
     "data": {
      "text/plain": [
       "4.411999999999982"
      ]
     },
     "execution_count": 46,
     "metadata": {},
     "output_type": "execute_result"
    }
   ],
   "source": [
    "f2(-1.7999999999999998,1.9000000000000035)"
   ]
  },
  {
   "cell_type": "markdown",
   "id": "7c4a7551",
   "metadata": {},
   "source": [
    "<h2> Problem 3 </h2>\n",
    "\n",
    "I'm taking an approach of character vectorization. <br>\n",
    "I solved the problem in 2 ways:\n",
    "<br>First:\n",
    "<li> First, I vectorized alphabets of each name and maintain counts of each letter. I'm each letter is uniformly distributed and independant from each other within each class (naive bayes).\n",
    "<li> I built the model from scratch by computing priors likelihoods using the counts of the letters and computed the posteriors within each class. Chosen the class with better probability as the final class. \n",
    "<li> Validated the output on the same feature set the in-built packages.\n",
    "<br>Second:\n",
    "<li> I have used count vectorization with sizes of (2,2) ngram and ran the in-built function using test train split. The idea was to get better accuracy than the previous model. The predictions are made accordingly. "
   ]
  },
  {
   "cell_type": "code",
   "execution_count": 47,
   "id": "ecd5cbfb",
   "metadata": {},
   "outputs": [],
   "source": [
    "import pandas as pd"
   ]
  },
  {
   "cell_type": "code",
   "execution_count": 48,
   "id": "840e4abe",
   "metadata": {
    "scrolled": true
   },
   "outputs": [],
   "source": [
    "boysdata=pd.read_csv(\"boy_names.csv\")"
   ]
  },
  {
   "cell_type": "code",
   "execution_count": 49,
   "id": "50f9ce5b",
   "metadata": {},
   "outputs": [],
   "source": [
    "girlsdata=pd.read_csv(\"girl_names-2.csv\")"
   ]
  },
  {
   "cell_type": "code",
   "execution_count": 50,
   "id": "8852f2ef",
   "metadata": {
    "scrolled": true
   },
   "outputs": [
    {
     "data": {
      "text/html": [
       "<div>\n",
       "<style scoped>\n",
       "    .dataframe tbody tr th:only-of-type {\n",
       "        vertical-align: middle;\n",
       "    }\n",
       "\n",
       "    .dataframe tbody tr th {\n",
       "        vertical-align: top;\n",
       "    }\n",
       "\n",
       "    .dataframe thead th {\n",
       "        text-align: right;\n",
       "    }\n",
       "</style>\n",
       "<table border=\"1\" class=\"dataframe\">\n",
       "  <thead>\n",
       "    <tr style=\"text-align: right;\">\n",
       "      <th></th>\n",
       "      <th>Unnamed: 0</th>\n",
       "      <th>x</th>\n",
       "    </tr>\n",
       "  </thead>\n",
       "  <tbody>\n",
       "    <tr>\n",
       "      <th>0</th>\n",
       "      <td>1</td>\n",
       "      <td>Elaina</td>\n",
       "    </tr>\n",
       "    <tr>\n",
       "      <th>1</th>\n",
       "      <td>2</td>\n",
       "      <td>Deedee</td>\n",
       "    </tr>\n",
       "    <tr>\n",
       "      <th>2</th>\n",
       "      <td>3</td>\n",
       "      <td>Aaliyah</td>\n",
       "    </tr>\n",
       "    <tr>\n",
       "      <th>3</th>\n",
       "      <td>4</td>\n",
       "      <td>Kathey</td>\n",
       "    </tr>\n",
       "    <tr>\n",
       "      <th>4</th>\n",
       "      <td>5</td>\n",
       "      <td>Antonetta</td>\n",
       "    </tr>\n",
       "    <tr>\n",
       "      <th>...</th>\n",
       "      <td>...</td>\n",
       "      <td>...</td>\n",
       "    </tr>\n",
       "    <tr>\n",
       "      <th>995</th>\n",
       "      <td>996</td>\n",
       "      <td>Terese</td>\n",
       "    </tr>\n",
       "    <tr>\n",
       "      <th>996</th>\n",
       "      <td>997</td>\n",
       "      <td>Tatyanna</td>\n",
       "    </tr>\n",
       "    <tr>\n",
       "      <th>997</th>\n",
       "      <td>998</td>\n",
       "      <td>Chana</td>\n",
       "    </tr>\n",
       "    <tr>\n",
       "      <th>998</th>\n",
       "      <td>999</td>\n",
       "      <td>Bree</td>\n",
       "    </tr>\n",
       "    <tr>\n",
       "      <th>999</th>\n",
       "      <td>1000</td>\n",
       "      <td>Rhianna</td>\n",
       "    </tr>\n",
       "  </tbody>\n",
       "</table>\n",
       "<p>1000 rows × 2 columns</p>\n",
       "</div>"
      ],
      "text/plain": [
       "     Unnamed: 0          x\n",
       "0             1     Elaina\n",
       "1             2     Deedee\n",
       "2             3    Aaliyah\n",
       "3             4     Kathey\n",
       "4             5  Antonetta\n",
       "..          ...        ...\n",
       "995         996     Terese\n",
       "996         997   Tatyanna\n",
       "997         998      Chana\n",
       "998         999       Bree\n",
       "999        1000    Rhianna\n",
       "\n",
       "[1000 rows x 2 columns]"
      ]
     },
     "execution_count": 50,
     "metadata": {},
     "output_type": "execute_result"
    }
   ],
   "source": [
    "girlsdata"
   ]
  },
  {
   "cell_type": "code",
   "execution_count": 51,
   "id": "065e9f6c",
   "metadata": {},
   "outputs": [],
   "source": [
    "boysdata[\"class\"]=-1\n",
    "girlsdata[\"class\"]=1"
   ]
  },
  {
   "cell_type": "code",
   "execution_count": 52,
   "id": "62543a75",
   "metadata": {},
   "outputs": [
    {
     "data": {
      "text/html": [
       "<div>\n",
       "<style scoped>\n",
       "    .dataframe tbody tr th:only-of-type {\n",
       "        vertical-align: middle;\n",
       "    }\n",
       "\n",
       "    .dataframe tbody tr th {\n",
       "        vertical-align: top;\n",
       "    }\n",
       "\n",
       "    .dataframe thead th {\n",
       "        text-align: right;\n",
       "    }\n",
       "</style>\n",
       "<table border=\"1\" class=\"dataframe\">\n",
       "  <thead>\n",
       "    <tr style=\"text-align: right;\">\n",
       "      <th></th>\n",
       "      <th>name</th>\n",
       "      <th>class</th>\n",
       "    </tr>\n",
       "  </thead>\n",
       "  <tbody>\n",
       "    <tr>\n",
       "      <th>0</th>\n",
       "      <td>Otho</td>\n",
       "      <td>-1</td>\n",
       "    </tr>\n",
       "    <tr>\n",
       "      <th>1</th>\n",
       "      <td>Caswell</td>\n",
       "      <td>-1</td>\n",
       "    </tr>\n",
       "    <tr>\n",
       "      <th>2</th>\n",
       "      <td>Deforest</td>\n",
       "      <td>-1</td>\n",
       "    </tr>\n",
       "    <tr>\n",
       "      <th>3</th>\n",
       "      <td>Eddy</td>\n",
       "      <td>-1</td>\n",
       "    </tr>\n",
       "    <tr>\n",
       "      <th>4</th>\n",
       "      <td>Corbett</td>\n",
       "      <td>-1</td>\n",
       "    </tr>\n",
       "  </tbody>\n",
       "</table>\n",
       "</div>"
      ],
      "text/plain": [
       "       name  class\n",
       "0      Otho     -1\n",
       "1   Caswell     -1\n",
       "2  Deforest     -1\n",
       "3      Eddy     -1\n",
       "4   Corbett     -1"
      ]
     },
     "execution_count": 52,
     "metadata": {},
     "output_type": "execute_result"
    }
   ],
   "source": [
    "data=pd.concat([boysdata.loc[:,[\"x\",\"class\"]],girlsdata.loc[:,[\"x\",\"class\"]]],axis=0)\n",
    "data=data.reset_index()\n",
    "data=data.drop(columns=[\"index\"],axis=1)\n",
    "data=data.rename(columns={\"x\": \"name\"})\n",
    "data.head()"
   ]
  },
  {
   "cell_type": "code",
   "execution_count": 53,
   "id": "94eb585c",
   "metadata": {},
   "outputs": [],
   "source": [
    "letters=['a','b','c','d','e','f','g','h','i','j','k','l','m','n','o','p','q','r','s','t','u','v','w','x','y','z']"
   ]
  },
  {
   "cell_type": "code",
   "execution_count": 54,
   "id": "0514e25d",
   "metadata": {},
   "outputs": [],
   "source": [
    "data[\"name2\"]=data[\"name\"].str.lower()"
   ]
  },
  {
   "cell_type": "code",
   "execution_count": 55,
   "id": "6a17fc5b",
   "metadata": {},
   "outputs": [
    {
     "data": {
      "text/html": [
       "<div>\n",
       "<style scoped>\n",
       "    .dataframe tbody tr th:only-of-type {\n",
       "        vertical-align: middle;\n",
       "    }\n",
       "\n",
       "    .dataframe tbody tr th {\n",
       "        vertical-align: top;\n",
       "    }\n",
       "\n",
       "    .dataframe thead th {\n",
       "        text-align: right;\n",
       "    }\n",
       "</style>\n",
       "<table border=\"1\" class=\"dataframe\">\n",
       "  <thead>\n",
       "    <tr style=\"text-align: right;\">\n",
       "      <th></th>\n",
       "      <th>name</th>\n",
       "      <th>class</th>\n",
       "      <th>name2</th>\n",
       "    </tr>\n",
       "  </thead>\n",
       "  <tbody>\n",
       "    <tr>\n",
       "      <th>0</th>\n",
       "      <td>Otho</td>\n",
       "      <td>-1</td>\n",
       "      <td>otho</td>\n",
       "    </tr>\n",
       "    <tr>\n",
       "      <th>1</th>\n",
       "      <td>Caswell</td>\n",
       "      <td>-1</td>\n",
       "      <td>caswell</td>\n",
       "    </tr>\n",
       "    <tr>\n",
       "      <th>2</th>\n",
       "      <td>Deforest</td>\n",
       "      <td>-1</td>\n",
       "      <td>deforest</td>\n",
       "    </tr>\n",
       "    <tr>\n",
       "      <th>3</th>\n",
       "      <td>Eddy</td>\n",
       "      <td>-1</td>\n",
       "      <td>eddy</td>\n",
       "    </tr>\n",
       "    <tr>\n",
       "      <th>4</th>\n",
       "      <td>Corbett</td>\n",
       "      <td>-1</td>\n",
       "      <td>corbett</td>\n",
       "    </tr>\n",
       "  </tbody>\n",
       "</table>\n",
       "</div>"
      ],
      "text/plain": [
       "       name  class     name2\n",
       "0      Otho     -1      otho\n",
       "1   Caswell     -1   caswell\n",
       "2  Deforest     -1  deforest\n",
       "3      Eddy     -1      eddy\n",
       "4   Corbett     -1   corbett"
      ]
     },
     "execution_count": 55,
     "metadata": {},
     "output_type": "execute_result"
    }
   ],
   "source": [
    "data.head()"
   ]
  },
  {
   "cell_type": "code",
   "execution_count": 56,
   "id": "56d0f4ec",
   "metadata": {},
   "outputs": [],
   "source": [
    "names=pd.DataFrame(index=data[\"name2\"],columns=letters)"
   ]
  },
  {
   "cell_type": "code",
   "execution_count": 57,
   "id": "52cbde31",
   "metadata": {},
   "outputs": [],
   "source": [
    "zero_data = np.zeros(shape=((data.shape[0]),26))\n",
    "d = pd.DataFrame(zero_data,index=data[\"name2\"],columns=letters)"
   ]
  },
  {
   "cell_type": "code",
   "execution_count": 58,
   "id": "0226b49a",
   "metadata": {},
   "outputs": [
    {
     "data": {
      "text/html": [
       "<div>\n",
       "<style scoped>\n",
       "    .dataframe tbody tr th:only-of-type {\n",
       "        vertical-align: middle;\n",
       "    }\n",
       "\n",
       "    .dataframe tbody tr th {\n",
       "        vertical-align: top;\n",
       "    }\n",
       "\n",
       "    .dataframe thead th {\n",
       "        text-align: right;\n",
       "    }\n",
       "</style>\n",
       "<table border=\"1\" class=\"dataframe\">\n",
       "  <thead>\n",
       "    <tr style=\"text-align: right;\">\n",
       "      <th></th>\n",
       "      <th>a</th>\n",
       "      <th>b</th>\n",
       "      <th>c</th>\n",
       "      <th>d</th>\n",
       "      <th>e</th>\n",
       "      <th>f</th>\n",
       "      <th>g</th>\n",
       "      <th>h</th>\n",
       "      <th>i</th>\n",
       "      <th>j</th>\n",
       "      <th>...</th>\n",
       "      <th>q</th>\n",
       "      <th>r</th>\n",
       "      <th>s</th>\n",
       "      <th>t</th>\n",
       "      <th>u</th>\n",
       "      <th>v</th>\n",
       "      <th>w</th>\n",
       "      <th>x</th>\n",
       "      <th>y</th>\n",
       "      <th>z</th>\n",
       "    </tr>\n",
       "    <tr>\n",
       "      <th>name2</th>\n",
       "      <th></th>\n",
       "      <th></th>\n",
       "      <th></th>\n",
       "      <th></th>\n",
       "      <th></th>\n",
       "      <th></th>\n",
       "      <th></th>\n",
       "      <th></th>\n",
       "      <th></th>\n",
       "      <th></th>\n",
       "      <th></th>\n",
       "      <th></th>\n",
       "      <th></th>\n",
       "      <th></th>\n",
       "      <th></th>\n",
       "      <th></th>\n",
       "      <th></th>\n",
       "      <th></th>\n",
       "      <th></th>\n",
       "      <th></th>\n",
       "      <th></th>\n",
       "    </tr>\n",
       "  </thead>\n",
       "  <tbody>\n",
       "    <tr>\n",
       "      <th>otho</th>\n",
       "      <td>0.0</td>\n",
       "      <td>0.0</td>\n",
       "      <td>0.0</td>\n",
       "      <td>0.0</td>\n",
       "      <td>0.0</td>\n",
       "      <td>0.0</td>\n",
       "      <td>0.0</td>\n",
       "      <td>0.0</td>\n",
       "      <td>0.0</td>\n",
       "      <td>0.0</td>\n",
       "      <td>...</td>\n",
       "      <td>0.0</td>\n",
       "      <td>0.0</td>\n",
       "      <td>0.0</td>\n",
       "      <td>0.0</td>\n",
       "      <td>0.0</td>\n",
       "      <td>0.0</td>\n",
       "      <td>0.0</td>\n",
       "      <td>0.0</td>\n",
       "      <td>0.0</td>\n",
       "      <td>0.0</td>\n",
       "    </tr>\n",
       "    <tr>\n",
       "      <th>caswell</th>\n",
       "      <td>0.0</td>\n",
       "      <td>0.0</td>\n",
       "      <td>0.0</td>\n",
       "      <td>0.0</td>\n",
       "      <td>0.0</td>\n",
       "      <td>0.0</td>\n",
       "      <td>0.0</td>\n",
       "      <td>0.0</td>\n",
       "      <td>0.0</td>\n",
       "      <td>0.0</td>\n",
       "      <td>...</td>\n",
       "      <td>0.0</td>\n",
       "      <td>0.0</td>\n",
       "      <td>0.0</td>\n",
       "      <td>0.0</td>\n",
       "      <td>0.0</td>\n",
       "      <td>0.0</td>\n",
       "      <td>0.0</td>\n",
       "      <td>0.0</td>\n",
       "      <td>0.0</td>\n",
       "      <td>0.0</td>\n",
       "    </tr>\n",
       "    <tr>\n",
       "      <th>deforest</th>\n",
       "      <td>0.0</td>\n",
       "      <td>0.0</td>\n",
       "      <td>0.0</td>\n",
       "      <td>0.0</td>\n",
       "      <td>0.0</td>\n",
       "      <td>0.0</td>\n",
       "      <td>0.0</td>\n",
       "      <td>0.0</td>\n",
       "      <td>0.0</td>\n",
       "      <td>0.0</td>\n",
       "      <td>...</td>\n",
       "      <td>0.0</td>\n",
       "      <td>0.0</td>\n",
       "      <td>0.0</td>\n",
       "      <td>0.0</td>\n",
       "      <td>0.0</td>\n",
       "      <td>0.0</td>\n",
       "      <td>0.0</td>\n",
       "      <td>0.0</td>\n",
       "      <td>0.0</td>\n",
       "      <td>0.0</td>\n",
       "    </tr>\n",
       "    <tr>\n",
       "      <th>eddy</th>\n",
       "      <td>0.0</td>\n",
       "      <td>0.0</td>\n",
       "      <td>0.0</td>\n",
       "      <td>0.0</td>\n",
       "      <td>0.0</td>\n",
       "      <td>0.0</td>\n",
       "      <td>0.0</td>\n",
       "      <td>0.0</td>\n",
       "      <td>0.0</td>\n",
       "      <td>0.0</td>\n",
       "      <td>...</td>\n",
       "      <td>0.0</td>\n",
       "      <td>0.0</td>\n",
       "      <td>0.0</td>\n",
       "      <td>0.0</td>\n",
       "      <td>0.0</td>\n",
       "      <td>0.0</td>\n",
       "      <td>0.0</td>\n",
       "      <td>0.0</td>\n",
       "      <td>0.0</td>\n",
       "      <td>0.0</td>\n",
       "    </tr>\n",
       "    <tr>\n",
       "      <th>corbett</th>\n",
       "      <td>0.0</td>\n",
       "      <td>0.0</td>\n",
       "      <td>0.0</td>\n",
       "      <td>0.0</td>\n",
       "      <td>0.0</td>\n",
       "      <td>0.0</td>\n",
       "      <td>0.0</td>\n",
       "      <td>0.0</td>\n",
       "      <td>0.0</td>\n",
       "      <td>0.0</td>\n",
       "      <td>...</td>\n",
       "      <td>0.0</td>\n",
       "      <td>0.0</td>\n",
       "      <td>0.0</td>\n",
       "      <td>0.0</td>\n",
       "      <td>0.0</td>\n",
       "      <td>0.0</td>\n",
       "      <td>0.0</td>\n",
       "      <td>0.0</td>\n",
       "      <td>0.0</td>\n",
       "      <td>0.0</td>\n",
       "    </tr>\n",
       "  </tbody>\n",
       "</table>\n",
       "<p>5 rows × 26 columns</p>\n",
       "</div>"
      ],
      "text/plain": [
       "            a    b    c    d    e    f    g    h    i    j  ...    q    r  \\\n",
       "name2                                                       ...             \n",
       "otho      0.0  0.0  0.0  0.0  0.0  0.0  0.0  0.0  0.0  0.0  ...  0.0  0.0   \n",
       "caswell   0.0  0.0  0.0  0.0  0.0  0.0  0.0  0.0  0.0  0.0  ...  0.0  0.0   \n",
       "deforest  0.0  0.0  0.0  0.0  0.0  0.0  0.0  0.0  0.0  0.0  ...  0.0  0.0   \n",
       "eddy      0.0  0.0  0.0  0.0  0.0  0.0  0.0  0.0  0.0  0.0  ...  0.0  0.0   \n",
       "corbett   0.0  0.0  0.0  0.0  0.0  0.0  0.0  0.0  0.0  0.0  ...  0.0  0.0   \n",
       "\n",
       "            s    t    u    v    w    x    y    z  \n",
       "name2                                             \n",
       "otho      0.0  0.0  0.0  0.0  0.0  0.0  0.0  0.0  \n",
       "caswell   0.0  0.0  0.0  0.0  0.0  0.0  0.0  0.0  \n",
       "deforest  0.0  0.0  0.0  0.0  0.0  0.0  0.0  0.0  \n",
       "eddy      0.0  0.0  0.0  0.0  0.0  0.0  0.0  0.0  \n",
       "corbett   0.0  0.0  0.0  0.0  0.0  0.0  0.0  0.0  \n",
       "\n",
       "[5 rows x 26 columns]"
      ]
     },
     "execution_count": 58,
     "metadata": {},
     "output_type": "execute_result"
    }
   ],
   "source": [
    "d.head()"
   ]
  },
  {
   "cell_type": "code",
   "execution_count": 59,
   "id": "7c035508",
   "metadata": {},
   "outputs": [],
   "source": [
    "for i in range(d.shape[0]):\n",
    "    wordlist=list(d.index[i])\n",
    "    for j in wordlist:\n",
    "        d.loc[d.index[i],j]+=1"
   ]
  },
  {
   "cell_type": "code",
   "execution_count": 60,
   "id": "b4fa1d32",
   "metadata": {},
   "outputs": [
    {
     "data": {
      "text/html": [
       "<div>\n",
       "<style scoped>\n",
       "    .dataframe tbody tr th:only-of-type {\n",
       "        vertical-align: middle;\n",
       "    }\n",
       "\n",
       "    .dataframe tbody tr th {\n",
       "        vertical-align: top;\n",
       "    }\n",
       "\n",
       "    .dataframe thead th {\n",
       "        text-align: right;\n",
       "    }\n",
       "</style>\n",
       "<table border=\"1\" class=\"dataframe\">\n",
       "  <thead>\n",
       "    <tr style=\"text-align: right;\">\n",
       "      <th></th>\n",
       "      <th>a</th>\n",
       "      <th>b</th>\n",
       "      <th>c</th>\n",
       "      <th>d</th>\n",
       "      <th>e</th>\n",
       "      <th>f</th>\n",
       "      <th>g</th>\n",
       "      <th>h</th>\n",
       "      <th>i</th>\n",
       "      <th>j</th>\n",
       "      <th>...</th>\n",
       "      <th>q</th>\n",
       "      <th>r</th>\n",
       "      <th>s</th>\n",
       "      <th>t</th>\n",
       "      <th>u</th>\n",
       "      <th>v</th>\n",
       "      <th>w</th>\n",
       "      <th>x</th>\n",
       "      <th>y</th>\n",
       "      <th>z</th>\n",
       "    </tr>\n",
       "    <tr>\n",
       "      <th>name2</th>\n",
       "      <th></th>\n",
       "      <th></th>\n",
       "      <th></th>\n",
       "      <th></th>\n",
       "      <th></th>\n",
       "      <th></th>\n",
       "      <th></th>\n",
       "      <th></th>\n",
       "      <th></th>\n",
       "      <th></th>\n",
       "      <th></th>\n",
       "      <th></th>\n",
       "      <th></th>\n",
       "      <th></th>\n",
       "      <th></th>\n",
       "      <th></th>\n",
       "      <th></th>\n",
       "      <th></th>\n",
       "      <th></th>\n",
       "      <th></th>\n",
       "      <th></th>\n",
       "    </tr>\n",
       "  </thead>\n",
       "  <tbody>\n",
       "    <tr>\n",
       "      <th>otho</th>\n",
       "      <td>0.0</td>\n",
       "      <td>0.0</td>\n",
       "      <td>0.0</td>\n",
       "      <td>0.0</td>\n",
       "      <td>0.0</td>\n",
       "      <td>0.0</td>\n",
       "      <td>0.0</td>\n",
       "      <td>1.0</td>\n",
       "      <td>0.0</td>\n",
       "      <td>0.0</td>\n",
       "      <td>...</td>\n",
       "      <td>0.0</td>\n",
       "      <td>0.0</td>\n",
       "      <td>0.0</td>\n",
       "      <td>1.0</td>\n",
       "      <td>0.0</td>\n",
       "      <td>0.0</td>\n",
       "      <td>0.0</td>\n",
       "      <td>0.0</td>\n",
       "      <td>0.0</td>\n",
       "      <td>0.0</td>\n",
       "    </tr>\n",
       "    <tr>\n",
       "      <th>caswell</th>\n",
       "      <td>1.0</td>\n",
       "      <td>0.0</td>\n",
       "      <td>1.0</td>\n",
       "      <td>0.0</td>\n",
       "      <td>1.0</td>\n",
       "      <td>0.0</td>\n",
       "      <td>0.0</td>\n",
       "      <td>0.0</td>\n",
       "      <td>0.0</td>\n",
       "      <td>0.0</td>\n",
       "      <td>...</td>\n",
       "      <td>0.0</td>\n",
       "      <td>0.0</td>\n",
       "      <td>1.0</td>\n",
       "      <td>0.0</td>\n",
       "      <td>0.0</td>\n",
       "      <td>0.0</td>\n",
       "      <td>1.0</td>\n",
       "      <td>0.0</td>\n",
       "      <td>0.0</td>\n",
       "      <td>0.0</td>\n",
       "    </tr>\n",
       "    <tr>\n",
       "      <th>deforest</th>\n",
       "      <td>0.0</td>\n",
       "      <td>0.0</td>\n",
       "      <td>0.0</td>\n",
       "      <td>1.0</td>\n",
       "      <td>2.0</td>\n",
       "      <td>1.0</td>\n",
       "      <td>0.0</td>\n",
       "      <td>0.0</td>\n",
       "      <td>0.0</td>\n",
       "      <td>0.0</td>\n",
       "      <td>...</td>\n",
       "      <td>0.0</td>\n",
       "      <td>1.0</td>\n",
       "      <td>1.0</td>\n",
       "      <td>1.0</td>\n",
       "      <td>0.0</td>\n",
       "      <td>0.0</td>\n",
       "      <td>0.0</td>\n",
       "      <td>0.0</td>\n",
       "      <td>0.0</td>\n",
       "      <td>0.0</td>\n",
       "    </tr>\n",
       "    <tr>\n",
       "      <th>eddy</th>\n",
       "      <td>0.0</td>\n",
       "      <td>0.0</td>\n",
       "      <td>0.0</td>\n",
       "      <td>2.0</td>\n",
       "      <td>1.0</td>\n",
       "      <td>0.0</td>\n",
       "      <td>0.0</td>\n",
       "      <td>0.0</td>\n",
       "      <td>0.0</td>\n",
       "      <td>0.0</td>\n",
       "      <td>...</td>\n",
       "      <td>0.0</td>\n",
       "      <td>0.0</td>\n",
       "      <td>0.0</td>\n",
       "      <td>0.0</td>\n",
       "      <td>0.0</td>\n",
       "      <td>0.0</td>\n",
       "      <td>0.0</td>\n",
       "      <td>0.0</td>\n",
       "      <td>1.0</td>\n",
       "      <td>0.0</td>\n",
       "    </tr>\n",
       "    <tr>\n",
       "      <th>corbett</th>\n",
       "      <td>0.0</td>\n",
       "      <td>1.0</td>\n",
       "      <td>1.0</td>\n",
       "      <td>0.0</td>\n",
       "      <td>1.0</td>\n",
       "      <td>0.0</td>\n",
       "      <td>0.0</td>\n",
       "      <td>0.0</td>\n",
       "      <td>0.0</td>\n",
       "      <td>0.0</td>\n",
       "      <td>...</td>\n",
       "      <td>0.0</td>\n",
       "      <td>1.0</td>\n",
       "      <td>0.0</td>\n",
       "      <td>2.0</td>\n",
       "      <td>0.0</td>\n",
       "      <td>0.0</td>\n",
       "      <td>0.0</td>\n",
       "      <td>0.0</td>\n",
       "      <td>0.0</td>\n",
       "      <td>0.0</td>\n",
       "    </tr>\n",
       "  </tbody>\n",
       "</table>\n",
       "<p>5 rows × 26 columns</p>\n",
       "</div>"
      ],
      "text/plain": [
       "            a    b    c    d    e    f    g    h    i    j  ...    q    r  \\\n",
       "name2                                                       ...             \n",
       "otho      0.0  0.0  0.0  0.0  0.0  0.0  0.0  1.0  0.0  0.0  ...  0.0  0.0   \n",
       "caswell   1.0  0.0  1.0  0.0  1.0  0.0  0.0  0.0  0.0  0.0  ...  0.0  0.0   \n",
       "deforest  0.0  0.0  0.0  1.0  2.0  1.0  0.0  0.0  0.0  0.0  ...  0.0  1.0   \n",
       "eddy      0.0  0.0  0.0  2.0  1.0  0.0  0.0  0.0  0.0  0.0  ...  0.0  0.0   \n",
       "corbett   0.0  1.0  1.0  0.0  1.0  0.0  0.0  0.0  0.0  0.0  ...  0.0  1.0   \n",
       "\n",
       "            s    t    u    v    w    x    y    z  \n",
       "name2                                             \n",
       "otho      0.0  1.0  0.0  0.0  0.0  0.0  0.0  0.0  \n",
       "caswell   1.0  0.0  0.0  0.0  1.0  0.0  0.0  0.0  \n",
       "deforest  1.0  1.0  0.0  0.0  0.0  0.0  0.0  0.0  \n",
       "eddy      0.0  0.0  0.0  0.0  0.0  0.0  1.0  0.0  \n",
       "corbett   0.0  2.0  0.0  0.0  0.0  0.0  0.0  0.0  \n",
       "\n",
       "[5 rows x 26 columns]"
      ]
     },
     "execution_count": 60,
     "metadata": {},
     "output_type": "execute_result"
    }
   ],
   "source": [
    "d.head()"
   ]
  },
  {
   "cell_type": "code",
   "execution_count": 61,
   "id": "3dbdac7b",
   "metadata": {},
   "outputs": [],
   "source": [
    "d[\"classes\"]=data.loc[:,\"class\"].values"
   ]
  },
  {
   "cell_type": "code",
   "execution_count": 62,
   "id": "3ebcb8ee",
   "metadata": {},
   "outputs": [
    {
     "data": {
      "text/html": [
       "<div>\n",
       "<style scoped>\n",
       "    .dataframe tbody tr th:only-of-type {\n",
       "        vertical-align: middle;\n",
       "    }\n",
       "\n",
       "    .dataframe tbody tr th {\n",
       "        vertical-align: top;\n",
       "    }\n",
       "\n",
       "    .dataframe thead th {\n",
       "        text-align: right;\n",
       "    }\n",
       "</style>\n",
       "<table border=\"1\" class=\"dataframe\">\n",
       "  <thead>\n",
       "    <tr style=\"text-align: right;\">\n",
       "      <th></th>\n",
       "      <th>a</th>\n",
       "      <th>b</th>\n",
       "      <th>c</th>\n",
       "      <th>d</th>\n",
       "      <th>e</th>\n",
       "      <th>f</th>\n",
       "      <th>g</th>\n",
       "      <th>h</th>\n",
       "      <th>i</th>\n",
       "      <th>j</th>\n",
       "      <th>...</th>\n",
       "      <th>r</th>\n",
       "      <th>s</th>\n",
       "      <th>t</th>\n",
       "      <th>u</th>\n",
       "      <th>v</th>\n",
       "      <th>w</th>\n",
       "      <th>x</th>\n",
       "      <th>y</th>\n",
       "      <th>z</th>\n",
       "      <th>classes</th>\n",
       "    </tr>\n",
       "    <tr>\n",
       "      <th>name2</th>\n",
       "      <th></th>\n",
       "      <th></th>\n",
       "      <th></th>\n",
       "      <th></th>\n",
       "      <th></th>\n",
       "      <th></th>\n",
       "      <th></th>\n",
       "      <th></th>\n",
       "      <th></th>\n",
       "      <th></th>\n",
       "      <th></th>\n",
       "      <th></th>\n",
       "      <th></th>\n",
       "      <th></th>\n",
       "      <th></th>\n",
       "      <th></th>\n",
       "      <th></th>\n",
       "      <th></th>\n",
       "      <th></th>\n",
       "      <th></th>\n",
       "      <th></th>\n",
       "    </tr>\n",
       "  </thead>\n",
       "  <tbody>\n",
       "    <tr>\n",
       "      <th>otho</th>\n",
       "      <td>0.0</td>\n",
       "      <td>0.0</td>\n",
       "      <td>0.0</td>\n",
       "      <td>0.0</td>\n",
       "      <td>0.0</td>\n",
       "      <td>0.0</td>\n",
       "      <td>0.0</td>\n",
       "      <td>1.0</td>\n",
       "      <td>0.0</td>\n",
       "      <td>0.0</td>\n",
       "      <td>...</td>\n",
       "      <td>0.0</td>\n",
       "      <td>0.0</td>\n",
       "      <td>1.0</td>\n",
       "      <td>0.0</td>\n",
       "      <td>0.0</td>\n",
       "      <td>0.0</td>\n",
       "      <td>0.0</td>\n",
       "      <td>0.0</td>\n",
       "      <td>0.0</td>\n",
       "      <td>-1</td>\n",
       "    </tr>\n",
       "    <tr>\n",
       "      <th>caswell</th>\n",
       "      <td>1.0</td>\n",
       "      <td>0.0</td>\n",
       "      <td>1.0</td>\n",
       "      <td>0.0</td>\n",
       "      <td>1.0</td>\n",
       "      <td>0.0</td>\n",
       "      <td>0.0</td>\n",
       "      <td>0.0</td>\n",
       "      <td>0.0</td>\n",
       "      <td>0.0</td>\n",
       "      <td>...</td>\n",
       "      <td>0.0</td>\n",
       "      <td>1.0</td>\n",
       "      <td>0.0</td>\n",
       "      <td>0.0</td>\n",
       "      <td>0.0</td>\n",
       "      <td>1.0</td>\n",
       "      <td>0.0</td>\n",
       "      <td>0.0</td>\n",
       "      <td>0.0</td>\n",
       "      <td>-1</td>\n",
       "    </tr>\n",
       "    <tr>\n",
       "      <th>deforest</th>\n",
       "      <td>0.0</td>\n",
       "      <td>0.0</td>\n",
       "      <td>0.0</td>\n",
       "      <td>1.0</td>\n",
       "      <td>2.0</td>\n",
       "      <td>1.0</td>\n",
       "      <td>0.0</td>\n",
       "      <td>0.0</td>\n",
       "      <td>0.0</td>\n",
       "      <td>0.0</td>\n",
       "      <td>...</td>\n",
       "      <td>1.0</td>\n",
       "      <td>1.0</td>\n",
       "      <td>1.0</td>\n",
       "      <td>0.0</td>\n",
       "      <td>0.0</td>\n",
       "      <td>0.0</td>\n",
       "      <td>0.0</td>\n",
       "      <td>0.0</td>\n",
       "      <td>0.0</td>\n",
       "      <td>-1</td>\n",
       "    </tr>\n",
       "    <tr>\n",
       "      <th>eddy</th>\n",
       "      <td>0.0</td>\n",
       "      <td>0.0</td>\n",
       "      <td>0.0</td>\n",
       "      <td>2.0</td>\n",
       "      <td>1.0</td>\n",
       "      <td>0.0</td>\n",
       "      <td>0.0</td>\n",
       "      <td>0.0</td>\n",
       "      <td>0.0</td>\n",
       "      <td>0.0</td>\n",
       "      <td>...</td>\n",
       "      <td>0.0</td>\n",
       "      <td>0.0</td>\n",
       "      <td>0.0</td>\n",
       "      <td>0.0</td>\n",
       "      <td>0.0</td>\n",
       "      <td>0.0</td>\n",
       "      <td>0.0</td>\n",
       "      <td>1.0</td>\n",
       "      <td>0.0</td>\n",
       "      <td>-1</td>\n",
       "    </tr>\n",
       "    <tr>\n",
       "      <th>corbett</th>\n",
       "      <td>0.0</td>\n",
       "      <td>1.0</td>\n",
       "      <td>1.0</td>\n",
       "      <td>0.0</td>\n",
       "      <td>1.0</td>\n",
       "      <td>0.0</td>\n",
       "      <td>0.0</td>\n",
       "      <td>0.0</td>\n",
       "      <td>0.0</td>\n",
       "      <td>0.0</td>\n",
       "      <td>...</td>\n",
       "      <td>1.0</td>\n",
       "      <td>0.0</td>\n",
       "      <td>2.0</td>\n",
       "      <td>0.0</td>\n",
       "      <td>0.0</td>\n",
       "      <td>0.0</td>\n",
       "      <td>0.0</td>\n",
       "      <td>0.0</td>\n",
       "      <td>0.0</td>\n",
       "      <td>-1</td>\n",
       "    </tr>\n",
       "  </tbody>\n",
       "</table>\n",
       "<p>5 rows × 27 columns</p>\n",
       "</div>"
      ],
      "text/plain": [
       "            a    b    c    d    e    f    g    h    i    j  ...    r    s  \\\n",
       "name2                                                       ...             \n",
       "otho      0.0  0.0  0.0  0.0  0.0  0.0  0.0  1.0  0.0  0.0  ...  0.0  0.0   \n",
       "caswell   1.0  0.0  1.0  0.0  1.0  0.0  0.0  0.0  0.0  0.0  ...  0.0  1.0   \n",
       "deforest  0.0  0.0  0.0  1.0  2.0  1.0  0.0  0.0  0.0  0.0  ...  1.0  1.0   \n",
       "eddy      0.0  0.0  0.0  2.0  1.0  0.0  0.0  0.0  0.0  0.0  ...  0.0  0.0   \n",
       "corbett   0.0  1.0  1.0  0.0  1.0  0.0  0.0  0.0  0.0  0.0  ...  1.0  0.0   \n",
       "\n",
       "            t    u    v    w    x    y    z  classes  \n",
       "name2                                                 \n",
       "otho      1.0  0.0  0.0  0.0  0.0  0.0  0.0       -1  \n",
       "caswell   0.0  0.0  0.0  1.0  0.0  0.0  0.0       -1  \n",
       "deforest  1.0  0.0  0.0  0.0  0.0  0.0  0.0       -1  \n",
       "eddy      0.0  0.0  0.0  0.0  0.0  1.0  0.0       -1  \n",
       "corbett   2.0  0.0  0.0  0.0  0.0  0.0  0.0       -1  \n",
       "\n",
       "[5 rows x 27 columns]"
      ]
     },
     "execution_count": 62,
     "metadata": {},
     "output_type": "execute_result"
    }
   ],
   "source": [
    "d.head()"
   ]
  },
  {
   "cell_type": "code",
   "execution_count": 63,
   "id": "d9fc4ae9",
   "metadata": {},
   "outputs": [],
   "source": [
    "dboy=d.loc[d[\"classes\"]==-1]\n",
    "dboy=dboy.drop(columns=\"classes\")\n",
    "dgirl=d.loc[d[\"classes\"]==1]\n",
    "dgirl=dgirl.drop(columns=\"classes\")"
   ]
  },
  {
   "cell_type": "code",
   "execution_count": 64,
   "id": "bc77a3c7",
   "metadata": {},
   "outputs": [
    {
     "name": "stdout",
     "output_type": "stream",
     "text": [
      "1000\n",
      "1000\n"
     ]
    }
   ],
   "source": [
    "count_boy=dboy.shape[0]\n",
    "count_girl=dgirl.shape[0]\n",
    "print(count_boy)\n",
    "print(count_girl)"
   ]
  },
  {
   "cell_type": "code",
   "execution_count": 65,
   "id": "5bf9c6c7",
   "metadata": {},
   "outputs": [],
   "source": [
    "#Calculating priors for boy class and girl class\n",
    "\n",
    "prior_boy=count_boy/(count_boy+count_girl)\n",
    "prior_girl=count_girl/(count_boy+count_girl)"
   ]
  },
  {
   "cell_type": "code",
   "execution_count": 66,
   "id": "3b757300",
   "metadata": {},
   "outputs": [],
   "source": [
    "totals_boy=dboy.sum(axis = 0, skipna = True)\n",
    "totals_girl=dgirl.sum(axis=0,skipna=True)\n",
    "totalfeatures_boy=sum(totals_boy)\n",
    "totalfeatures_girl=sum(totals_girl)"
   ]
  },
  {
   "cell_type": "code",
   "execution_count": 67,
   "id": "662cf043",
   "metadata": {},
   "outputs": [],
   "source": [
    "#Calculating likelihoods of each boy and girl names\n",
    "\n",
    "likelihoods_boy=totals_boy/totalfeatures_boy\n",
    "likelihoods_girl=totals_girl/totalfeatures_girl"
   ]
  },
  {
   "cell_type": "code",
   "execution_count": 68,
   "id": "7c97882d",
   "metadata": {
    "scrolled": true
   },
   "outputs": [
    {
     "data": {
      "text/plain": [
       "0.10857931986880719"
      ]
     },
     "execution_count": 68,
     "metadata": {},
     "output_type": "execute_result"
    }
   ],
   "source": [
    "likelihoods_boy[\"a\"]"
   ]
  },
  {
   "cell_type": "code",
   "execution_count": 69,
   "id": "598ec37e",
   "metadata": {},
   "outputs": [],
   "source": [
    "test_data=pd.read_csv(\"test_names.csv\")"
   ]
  },
  {
   "cell_type": "code",
   "execution_count": 70,
   "id": "98fd1549",
   "metadata": {},
   "outputs": [
    {
     "data": {
      "text/html": [
       "<div>\n",
       "<style scoped>\n",
       "    .dataframe tbody tr th:only-of-type {\n",
       "        vertical-align: middle;\n",
       "    }\n",
       "\n",
       "    .dataframe tbody tr th {\n",
       "        vertical-align: top;\n",
       "    }\n",
       "\n",
       "    .dataframe thead th {\n",
       "        text-align: right;\n",
       "    }\n",
       "</style>\n",
       "<table border=\"1\" class=\"dataframe\">\n",
       "  <thead>\n",
       "    <tr style=\"text-align: right;\">\n",
       "      <th></th>\n",
       "      <th>Unnamed: 0</th>\n",
       "      <th>x</th>\n",
       "    </tr>\n",
       "  </thead>\n",
       "  <tbody>\n",
       "    <tr>\n",
       "      <th>0</th>\n",
       "      <td>1</td>\n",
       "      <td>Brittani</td>\n",
       "    </tr>\n",
       "    <tr>\n",
       "      <th>1</th>\n",
       "      <td>2</td>\n",
       "      <td>Brandin</td>\n",
       "    </tr>\n",
       "    <tr>\n",
       "      <th>2</th>\n",
       "      <td>3</td>\n",
       "      <td>Darry</td>\n",
       "    </tr>\n",
       "    <tr>\n",
       "      <th>3</th>\n",
       "      <td>4</td>\n",
       "      <td>Tresa</td>\n",
       "    </tr>\n",
       "    <tr>\n",
       "      <th>4</th>\n",
       "      <td>5</td>\n",
       "      <td>Fabiola</td>\n",
       "    </tr>\n",
       "    <tr>\n",
       "      <th>...</th>\n",
       "      <td>...</td>\n",
       "      <td>...</td>\n",
       "    </tr>\n",
       "    <tr>\n",
       "      <th>95</th>\n",
       "      <td>96</td>\n",
       "      <td>Migdalia</td>\n",
       "    </tr>\n",
       "    <tr>\n",
       "      <th>96</th>\n",
       "      <td>97</td>\n",
       "      <td>Abril</td>\n",
       "    </tr>\n",
       "    <tr>\n",
       "      <th>97</th>\n",
       "      <td>98</td>\n",
       "      <td>Aliyah</td>\n",
       "    </tr>\n",
       "    <tr>\n",
       "      <th>98</th>\n",
       "      <td>99</td>\n",
       "      <td>Tianna</td>\n",
       "    </tr>\n",
       "    <tr>\n",
       "      <th>99</th>\n",
       "      <td>100</td>\n",
       "      <td>Colie</td>\n",
       "    </tr>\n",
       "  </tbody>\n",
       "</table>\n",
       "<p>100 rows × 2 columns</p>\n",
       "</div>"
      ],
      "text/plain": [
       "    Unnamed: 0         x\n",
       "0            1  Brittani\n",
       "1            2   Brandin\n",
       "2            3     Darry\n",
       "3            4     Tresa\n",
       "4            5   Fabiola\n",
       "..         ...       ...\n",
       "95          96  Migdalia\n",
       "96          97     Abril\n",
       "97          98    Aliyah\n",
       "98          99    Tianna\n",
       "99         100     Colie\n",
       "\n",
       "[100 rows x 2 columns]"
      ]
     },
     "execution_count": 70,
     "metadata": {},
     "output_type": "execute_result"
    }
   ],
   "source": [
    "test_data"
   ]
  },
  {
   "cell_type": "code",
   "execution_count": 71,
   "id": "7117509e",
   "metadata": {},
   "outputs": [],
   "source": [
    "test_data=test_data.drop(columns=\"Unnamed: 0\")"
   ]
  },
  {
   "cell_type": "code",
   "execution_count": 72,
   "id": "8bf0e7eb",
   "metadata": {},
   "outputs": [],
   "source": [
    "zero_data = np.zeros(shape=((test_data.shape[0]),26))\n",
    "dt = pd.DataFrame(zero_data,index=test_data.loc[:,\"x\"].str.lower(),columns=letters)"
   ]
  },
  {
   "cell_type": "code",
   "execution_count": 73,
   "id": "88b1c23d",
   "metadata": {},
   "outputs": [],
   "source": [
    "#calculating the counts of each alphabet for each name in the test data\n",
    "\n",
    "for i in range(dt.shape[0]):\n",
    "    wordlist=list(dt.index[i])\n",
    "    #print(wordlist)\n",
    "    for j in wordlist:\n",
    "        dt.loc[dt.index[i],j]+=1"
   ]
  },
  {
   "cell_type": "code",
   "execution_count": 74,
   "id": "3389ba98",
   "metadata": {},
   "outputs": [],
   "source": [
    "#calculating probabilities for each class for the test names using the likelihoods and priors.\n",
    "\n",
    "prob_boy=[]\n",
    "prob_girl=[]\n",
    "\n",
    "for i in dt.index:\n",
    "    val_boy=1\n",
    "    val_girl=1\n",
    "    for j in letters:\n",
    "        val_boy*=prior_boy*pow(likelihoods_boy[j],dt.loc[i,j])\n",
    "        val_girl*=prior_girl*pow(likelihoods_girl[j],dt.loc[i,j])\n",
    "    prob_boy.append(val_boy)\n",
    "    prob_girl.append(val_girl)"
   ]
  },
  {
   "cell_type": "code",
   "execution_count": 75,
   "id": "61e53cad",
   "metadata": {},
   "outputs": [],
   "source": [
    "#Assigning classes based on the probabilities\n",
    "\n",
    "dt[\"p_b\"]=prob_boy\n",
    "dt[\"p_g\"]=prob_girl\n",
    "\n",
    "dt[\"pred_class\"]=-1\n",
    "\n",
    "dt.loc[dt[\"p_b\"]<dt[\"p_g\"],\"pred_class\"]=1"
   ]
  },
  {
   "cell_type": "code",
   "execution_count": 76,
   "id": "84d2da01",
   "metadata": {
    "scrolled": true
   },
   "outputs": [
    {
     "data": {
      "text/html": [
       "<div>\n",
       "<style scoped>\n",
       "    .dataframe tbody tr th:only-of-type {\n",
       "        vertical-align: middle;\n",
       "    }\n",
       "\n",
       "    .dataframe tbody tr th {\n",
       "        vertical-align: top;\n",
       "    }\n",
       "\n",
       "    .dataframe thead th {\n",
       "        text-align: right;\n",
       "    }\n",
       "</style>\n",
       "<table border=\"1\" class=\"dataframe\">\n",
       "  <thead>\n",
       "    <tr style=\"text-align: right;\">\n",
       "      <th></th>\n",
       "      <th>a</th>\n",
       "      <th>b</th>\n",
       "      <th>c</th>\n",
       "      <th>d</th>\n",
       "      <th>e</th>\n",
       "      <th>f</th>\n",
       "      <th>g</th>\n",
       "      <th>h</th>\n",
       "      <th>i</th>\n",
       "      <th>j</th>\n",
       "      <th>...</th>\n",
       "      <th>t</th>\n",
       "      <th>u</th>\n",
       "      <th>v</th>\n",
       "      <th>w</th>\n",
       "      <th>x</th>\n",
       "      <th>y</th>\n",
       "      <th>z</th>\n",
       "      <th>p_b</th>\n",
       "      <th>p_g</th>\n",
       "      <th>pred_class</th>\n",
       "    </tr>\n",
       "    <tr>\n",
       "      <th>x</th>\n",
       "      <th></th>\n",
       "      <th></th>\n",
       "      <th></th>\n",
       "      <th></th>\n",
       "      <th></th>\n",
       "      <th></th>\n",
       "      <th></th>\n",
       "      <th></th>\n",
       "      <th></th>\n",
       "      <th></th>\n",
       "      <th></th>\n",
       "      <th></th>\n",
       "      <th></th>\n",
       "      <th></th>\n",
       "      <th></th>\n",
       "      <th></th>\n",
       "      <th></th>\n",
       "      <th></th>\n",
       "      <th></th>\n",
       "      <th></th>\n",
       "      <th></th>\n",
       "    </tr>\n",
       "  </thead>\n",
       "  <tbody>\n",
       "    <tr>\n",
       "      <th>brittani</th>\n",
       "      <td>1.0</td>\n",
       "      <td>1.0</td>\n",
       "      <td>0.0</td>\n",
       "      <td>0.0</td>\n",
       "      <td>0.0</td>\n",
       "      <td>0.0</td>\n",
       "      <td>0.0</td>\n",
       "      <td>0.0</td>\n",
       "      <td>2.0</td>\n",
       "      <td>0.0</td>\n",
       "      <td>...</td>\n",
       "      <td>2.0</td>\n",
       "      <td>0.0</td>\n",
       "      <td>0.0</td>\n",
       "      <td>0.0</td>\n",
       "      <td>0.0</td>\n",
       "      <td>0.0</td>\n",
       "      <td>0.0</td>\n",
       "      <td>1.759886e-18</td>\n",
       "      <td>3.429273e-18</td>\n",
       "      <td>1</td>\n",
       "    </tr>\n",
       "    <tr>\n",
       "      <th>brandin</th>\n",
       "      <td>1.0</td>\n",
       "      <td>1.0</td>\n",
       "      <td>0.0</td>\n",
       "      <td>1.0</td>\n",
       "      <td>0.0</td>\n",
       "      <td>0.0</td>\n",
       "      <td>0.0</td>\n",
       "      <td>0.0</td>\n",
       "      <td>1.0</td>\n",
       "      <td>0.0</td>\n",
       "      <td>...</td>\n",
       "      <td>0.0</td>\n",
       "      <td>0.0</td>\n",
       "      <td>0.0</td>\n",
       "      <td>0.0</td>\n",
       "      <td>0.0</td>\n",
       "      <td>0.0</td>\n",
       "      <td>0.0</td>\n",
       "      <td>7.001700e-17</td>\n",
       "      <td>4.621178e-17</td>\n",
       "      <td>-1</td>\n",
       "    </tr>\n",
       "    <tr>\n",
       "      <th>darry</th>\n",
       "      <td>1.0</td>\n",
       "      <td>0.0</td>\n",
       "      <td>0.0</td>\n",
       "      <td>1.0</td>\n",
       "      <td>0.0</td>\n",
       "      <td>0.0</td>\n",
       "      <td>0.0</td>\n",
       "      <td>0.0</td>\n",
       "      <td>0.0</td>\n",
       "      <td>0.0</td>\n",
       "      <td>...</td>\n",
       "      <td>0.0</td>\n",
       "      <td>0.0</td>\n",
       "      <td>0.0</td>\n",
       "      <td>0.0</td>\n",
       "      <td>0.0</td>\n",
       "      <td>1.0</td>\n",
       "      <td>0.0</td>\n",
       "      <td>1.800249e-14</td>\n",
       "      <td>1.086617e-14</td>\n",
       "      <td>-1</td>\n",
       "    </tr>\n",
       "    <tr>\n",
       "      <th>tresa</th>\n",
       "      <td>1.0</td>\n",
       "      <td>0.0</td>\n",
       "      <td>0.0</td>\n",
       "      <td>0.0</td>\n",
       "      <td>1.0</td>\n",
       "      <td>0.0</td>\n",
       "      <td>0.0</td>\n",
       "      <td>0.0</td>\n",
       "      <td>0.0</td>\n",
       "      <td>0.0</td>\n",
       "      <td>...</td>\n",
       "      <td>1.0</td>\n",
       "      <td>0.0</td>\n",
       "      <td>0.0</td>\n",
       "      <td>0.0</td>\n",
       "      <td>0.0</td>\n",
       "      <td>0.0</td>\n",
       "      <td>0.0</td>\n",
       "      <td>3.233434e-14</td>\n",
       "      <td>4.084364e-14</td>\n",
       "      <td>1</td>\n",
       "    </tr>\n",
       "    <tr>\n",
       "      <th>fabiola</th>\n",
       "      <td>2.0</td>\n",
       "      <td>1.0</td>\n",
       "      <td>0.0</td>\n",
       "      <td>0.0</td>\n",
       "      <td>0.0</td>\n",
       "      <td>1.0</td>\n",
       "      <td>0.0</td>\n",
       "      <td>0.0</td>\n",
       "      <td>1.0</td>\n",
       "      <td>0.0</td>\n",
       "      <td>...</td>\n",
       "      <td>0.0</td>\n",
       "      <td>0.0</td>\n",
       "      <td>0.0</td>\n",
       "      <td>0.0</td>\n",
       "      <td>0.0</td>\n",
       "      <td>0.0</td>\n",
       "      <td>0.0</td>\n",
       "      <td>9.229726e-18</td>\n",
       "      <td>6.000727e-18</td>\n",
       "      <td>-1</td>\n",
       "    </tr>\n",
       "  </tbody>\n",
       "</table>\n",
       "<p>5 rows × 29 columns</p>\n",
       "</div>"
      ],
      "text/plain": [
       "            a    b    c    d    e    f    g    h    i    j  ...    t    u  \\\n",
       "x                                                           ...             \n",
       "brittani  1.0  1.0  0.0  0.0  0.0  0.0  0.0  0.0  2.0  0.0  ...  2.0  0.0   \n",
       "brandin   1.0  1.0  0.0  1.0  0.0  0.0  0.0  0.0  1.0  0.0  ...  0.0  0.0   \n",
       "darry     1.0  0.0  0.0  1.0  0.0  0.0  0.0  0.0  0.0  0.0  ...  0.0  0.0   \n",
       "tresa     1.0  0.0  0.0  0.0  1.0  0.0  0.0  0.0  0.0  0.0  ...  1.0  0.0   \n",
       "fabiola   2.0  1.0  0.0  0.0  0.0  1.0  0.0  0.0  1.0  0.0  ...  0.0  0.0   \n",
       "\n",
       "            v    w    x    y    z           p_b           p_g  pred_class  \n",
       "x                                                                          \n",
       "brittani  0.0  0.0  0.0  0.0  0.0  1.759886e-18  3.429273e-18           1  \n",
       "brandin   0.0  0.0  0.0  0.0  0.0  7.001700e-17  4.621178e-17          -1  \n",
       "darry     0.0  0.0  0.0  1.0  0.0  1.800249e-14  1.086617e-14          -1  \n",
       "tresa     0.0  0.0  0.0  0.0  0.0  3.233434e-14  4.084364e-14           1  \n",
       "fabiola   0.0  0.0  0.0  0.0  0.0  9.229726e-18  6.000727e-18          -1  \n",
       "\n",
       "[5 rows x 29 columns]"
      ]
     },
     "execution_count": 76,
     "metadata": {},
     "output_type": "execute_result"
    }
   ],
   "source": [
    "dt.head()"
   ]
  },
  {
   "cell_type": "code",
   "execution_count": 77,
   "id": "622ac85e",
   "metadata": {},
   "outputs": [
    {
     "name": "stdout",
     "output_type": "stream",
     "text": [
      "Index(['brittani', 'tresa', 'earnestine', 'hallie', 'lani', 'skyla', 'charlie',\n",
      "       'mariann', 'kenzie', 'lee', 'estefany', 'alwilda', 'stephania',\n",
      "       'graciela', 'art', 'aretha', 'kaden', 'nasir', 'chase', 'vlasta',\n",
      "       'gael', 'stephenie', 'helena', 'letty', 'cherelle', 'allyssa', 'cindy',\n",
      "       'rickie', 'stacie', 'zaria', 'nile', 'shaquana', 'lahoma', 'lala',\n",
      "       'enid', 'jase', 'brittany', 'tiesha', 'lulah', 'geralyn', 'desean',\n",
      "       'vinie', 'rosaline', 'destin', 'shyheim', 'reginal', 'latoya', 'nell',\n",
      "       'neha', 'chip', 'nettie', 'trina', 'saige', 'asha', 'migdalia', 'abril',\n",
      "       'aliyah', 'tianna'],\n",
      "      dtype='object', name='x')\n"
     ]
    }
   ],
   "source": [
    "predicted_girls_names=dt.loc[dt[\"pred_class\"]==1].index\n",
    "print(predicted_girls_names)"
   ]
  },
  {
   "cell_type": "code",
   "execution_count": 78,
   "id": "02373ee0",
   "metadata": {},
   "outputs": [
    {
     "name": "stdout",
     "output_type": "stream",
     "text": [
      "Index(['brandin', 'darry', 'fabiola', 'wirt', 'evette', 'thurston',\n",
      "       'lindbergh', 'cornel', 'burdette', 'renard', 'joella', 'glen', 'grove',\n",
      "       'foster', 'maury', 'bynum', 'ruie', 'jerry', 'che', 'birt', 'afton',\n",
      "       'izora', 'kiefer', 'debora', 'oney', 'toriano', 'roseanne', 'teddie',\n",
      "       'dwyane', 'boyce', 'bose', 'gino', 'reid', 'dock', 'rolf', 'lonnie',\n",
      "       'cullen', 'kerry', 'garrick', 'alston', 'jarred', 'colie'],\n",
      "      dtype='object', name='x')\n"
     ]
    }
   ],
   "source": [
    "predicted_boys_names=dt.loc[dt[\"pred_class\"]==-1].index\n",
    "print(predicted_boys_names)"
   ]
  },
  {
   "cell_type": "code",
   "execution_count": 79,
   "id": "f15b8336",
   "metadata": {},
   "outputs": [
    {
     "name": "stdout",
     "output_type": "stream",
     "text": [
      "(100, 2)\n"
     ]
    }
   ],
   "source": [
    "#writing the output of test data\n",
    "\n",
    "output_girls = pd.DataFrame(predicted_girls_names)\n",
    "output_girls[\"gender\"]=\"girl\"\n",
    "output_girls\n",
    "\n",
    "output_boys = pd.DataFrame(predicted_boys_names)\n",
    "output_boys[\"gender\"]=\"boy\"\n",
    "output_boys\n",
    "\n",
    "output=output_boys.append(output_girls)\n",
    "print(output.shape)\n",
    "output.to_csv(\"first_model.csv\",index=False)"
   ]
  },
  {
   "cell_type": "markdown",
   "id": "37737e7f",
   "metadata": {},
   "source": [
    "<h4>Using Libraries with this approach of features generation to test my model output.</h4>"
   ]
  },
  {
   "cell_type": "code",
   "execution_count": 80,
   "id": "4ab4da2f",
   "metadata": {},
   "outputs": [],
   "source": [
    "itrain, itest = train_test_split(range(d.shape[0]), train_size=0.7)\n",
    "mask=np.ones(d.shape[0], dtype='int')\n",
    "mask[itrain]=1\n",
    "mask[itest]=0\n",
    "mask = (mask==1)"
   ]
  },
  {
   "cell_type": "code",
   "execution_count": 81,
   "id": "db430683",
   "metadata": {},
   "outputs": [],
   "source": [
    "X=d.loc[:,letters]\n",
    "y=d[\"classes\"]"
   ]
  },
  {
   "cell_type": "code",
   "execution_count": 82,
   "id": "73c0430d",
   "metadata": {},
   "outputs": [
    {
     "name": "stdout",
     "output_type": "stream",
     "text": [
      "0.6578571428571428\n",
      "0.655\n"
     ]
    }
   ],
   "source": [
    "Xtrainthis=X[mask]\n",
    "Ytrainthis=y[mask]\n",
    "Xtestthis=X[~mask]\n",
    "Ytestthis=y[~mask]\n",
    "clf = MultinomialNB(alpha = 1)\n",
    "clf.fit(Xtrainthis, Ytrainthis)\n",
    "training_accuracy = clf.score(Xtrainthis,Ytrainthis)\n",
    "test_accuracy = clf.score(Xtestthis,Ytestthis)\n",
    "        \n",
    "print(training_accuracy)\n",
    "print(test_accuracy)"
   ]
  },
  {
   "cell_type": "code",
   "execution_count": 83,
   "id": "ea0a16a9",
   "metadata": {
    "scrolled": true
   },
   "outputs": [
    {
     "data": {
      "text/html": [
       "<div>\n",
       "<style scoped>\n",
       "    .dataframe tbody tr th:only-of-type {\n",
       "        vertical-align: middle;\n",
       "    }\n",
       "\n",
       "    .dataframe tbody tr th {\n",
       "        vertical-align: top;\n",
       "    }\n",
       "\n",
       "    .dataframe thead th {\n",
       "        text-align: right;\n",
       "    }\n",
       "</style>\n",
       "<table border=\"1\" class=\"dataframe\">\n",
       "  <thead>\n",
       "    <tr style=\"text-align: right;\">\n",
       "      <th></th>\n",
       "      <th>a</th>\n",
       "      <th>b</th>\n",
       "      <th>c</th>\n",
       "      <th>d</th>\n",
       "      <th>e</th>\n",
       "      <th>f</th>\n",
       "      <th>g</th>\n",
       "      <th>h</th>\n",
       "      <th>i</th>\n",
       "      <th>j</th>\n",
       "      <th>...</th>\n",
       "      <th>q</th>\n",
       "      <th>r</th>\n",
       "      <th>s</th>\n",
       "      <th>t</th>\n",
       "      <th>u</th>\n",
       "      <th>v</th>\n",
       "      <th>w</th>\n",
       "      <th>x</th>\n",
       "      <th>y</th>\n",
       "      <th>z</th>\n",
       "    </tr>\n",
       "    <tr>\n",
       "      <th>x</th>\n",
       "      <th></th>\n",
       "      <th></th>\n",
       "      <th></th>\n",
       "      <th></th>\n",
       "      <th></th>\n",
       "      <th></th>\n",
       "      <th></th>\n",
       "      <th></th>\n",
       "      <th></th>\n",
       "      <th></th>\n",
       "      <th></th>\n",
       "      <th></th>\n",
       "      <th></th>\n",
       "      <th></th>\n",
       "      <th></th>\n",
       "      <th></th>\n",
       "      <th></th>\n",
       "      <th></th>\n",
       "      <th></th>\n",
       "      <th></th>\n",
       "      <th></th>\n",
       "    </tr>\n",
       "  </thead>\n",
       "  <tbody>\n",
       "    <tr>\n",
       "      <th>brittani</th>\n",
       "      <td>1.0</td>\n",
       "      <td>1.0</td>\n",
       "      <td>0.0</td>\n",
       "      <td>0.0</td>\n",
       "      <td>0.0</td>\n",
       "      <td>0.0</td>\n",
       "      <td>0.0</td>\n",
       "      <td>0.0</td>\n",
       "      <td>2.0</td>\n",
       "      <td>0.0</td>\n",
       "      <td>...</td>\n",
       "      <td>0.0</td>\n",
       "      <td>1.0</td>\n",
       "      <td>0.0</td>\n",
       "      <td>2.0</td>\n",
       "      <td>0.0</td>\n",
       "      <td>0.0</td>\n",
       "      <td>0.0</td>\n",
       "      <td>0.0</td>\n",
       "      <td>0.0</td>\n",
       "      <td>0.0</td>\n",
       "    </tr>\n",
       "    <tr>\n",
       "      <th>brandin</th>\n",
       "      <td>1.0</td>\n",
       "      <td>1.0</td>\n",
       "      <td>0.0</td>\n",
       "      <td>1.0</td>\n",
       "      <td>0.0</td>\n",
       "      <td>0.0</td>\n",
       "      <td>0.0</td>\n",
       "      <td>0.0</td>\n",
       "      <td>1.0</td>\n",
       "      <td>0.0</td>\n",
       "      <td>...</td>\n",
       "      <td>0.0</td>\n",
       "      <td>1.0</td>\n",
       "      <td>0.0</td>\n",
       "      <td>0.0</td>\n",
       "      <td>0.0</td>\n",
       "      <td>0.0</td>\n",
       "      <td>0.0</td>\n",
       "      <td>0.0</td>\n",
       "      <td>0.0</td>\n",
       "      <td>0.0</td>\n",
       "    </tr>\n",
       "    <tr>\n",
       "      <th>darry</th>\n",
       "      <td>1.0</td>\n",
       "      <td>0.0</td>\n",
       "      <td>0.0</td>\n",
       "      <td>1.0</td>\n",
       "      <td>0.0</td>\n",
       "      <td>0.0</td>\n",
       "      <td>0.0</td>\n",
       "      <td>0.0</td>\n",
       "      <td>0.0</td>\n",
       "      <td>0.0</td>\n",
       "      <td>...</td>\n",
       "      <td>0.0</td>\n",
       "      <td>2.0</td>\n",
       "      <td>0.0</td>\n",
       "      <td>0.0</td>\n",
       "      <td>0.0</td>\n",
       "      <td>0.0</td>\n",
       "      <td>0.0</td>\n",
       "      <td>0.0</td>\n",
       "      <td>1.0</td>\n",
       "      <td>0.0</td>\n",
       "    </tr>\n",
       "    <tr>\n",
       "      <th>tresa</th>\n",
       "      <td>1.0</td>\n",
       "      <td>0.0</td>\n",
       "      <td>0.0</td>\n",
       "      <td>0.0</td>\n",
       "      <td>1.0</td>\n",
       "      <td>0.0</td>\n",
       "      <td>0.0</td>\n",
       "      <td>0.0</td>\n",
       "      <td>0.0</td>\n",
       "      <td>0.0</td>\n",
       "      <td>...</td>\n",
       "      <td>0.0</td>\n",
       "      <td>1.0</td>\n",
       "      <td>1.0</td>\n",
       "      <td>1.0</td>\n",
       "      <td>0.0</td>\n",
       "      <td>0.0</td>\n",
       "      <td>0.0</td>\n",
       "      <td>0.0</td>\n",
       "      <td>0.0</td>\n",
       "      <td>0.0</td>\n",
       "    </tr>\n",
       "    <tr>\n",
       "      <th>fabiola</th>\n",
       "      <td>2.0</td>\n",
       "      <td>1.0</td>\n",
       "      <td>0.0</td>\n",
       "      <td>0.0</td>\n",
       "      <td>0.0</td>\n",
       "      <td>1.0</td>\n",
       "      <td>0.0</td>\n",
       "      <td>0.0</td>\n",
       "      <td>1.0</td>\n",
       "      <td>0.0</td>\n",
       "      <td>...</td>\n",
       "      <td>0.0</td>\n",
       "      <td>0.0</td>\n",
       "      <td>0.0</td>\n",
       "      <td>0.0</td>\n",
       "      <td>0.0</td>\n",
       "      <td>0.0</td>\n",
       "      <td>0.0</td>\n",
       "      <td>0.0</td>\n",
       "      <td>0.0</td>\n",
       "      <td>0.0</td>\n",
       "    </tr>\n",
       "  </tbody>\n",
       "</table>\n",
       "<p>5 rows × 26 columns</p>\n",
       "</div>"
      ],
      "text/plain": [
       "            a    b    c    d    e    f    g    h    i    j  ...    q    r  \\\n",
       "x                                                           ...             \n",
       "brittani  1.0  1.0  0.0  0.0  0.0  0.0  0.0  0.0  2.0  0.0  ...  0.0  1.0   \n",
       "brandin   1.0  1.0  0.0  1.0  0.0  0.0  0.0  0.0  1.0  0.0  ...  0.0  1.0   \n",
       "darry     1.0  0.0  0.0  1.0  0.0  0.0  0.0  0.0  0.0  0.0  ...  0.0  2.0   \n",
       "tresa     1.0  0.0  0.0  0.0  1.0  0.0  0.0  0.0  0.0  0.0  ...  0.0  1.0   \n",
       "fabiola   2.0  1.0  0.0  0.0  0.0  1.0  0.0  0.0  1.0  0.0  ...  0.0  0.0   \n",
       "\n",
       "            s    t    u    v    w    x    y    z  \n",
       "x                                                 \n",
       "brittani  0.0  2.0  0.0  0.0  0.0  0.0  0.0  0.0  \n",
       "brandin   0.0  0.0  0.0  0.0  0.0  0.0  0.0  0.0  \n",
       "darry     0.0  0.0  0.0  0.0  0.0  0.0  1.0  0.0  \n",
       "tresa     1.0  1.0  0.0  0.0  0.0  0.0  0.0  0.0  \n",
       "fabiola   0.0  0.0  0.0  0.0  0.0  0.0  0.0  0.0  \n",
       "\n",
       "[5 rows x 26 columns]"
      ]
     },
     "execution_count": 83,
     "metadata": {},
     "output_type": "execute_result"
    }
   ],
   "source": [
    "x_test=dt.loc[:,letters]\n",
    "x_test.head()"
   ]
  },
  {
   "cell_type": "code",
   "execution_count": 84,
   "id": "3c771b1c",
   "metadata": {},
   "outputs": [],
   "source": [
    "pred=clf.predict(x_test)"
   ]
  },
  {
   "cell_type": "code",
   "execution_count": 85,
   "id": "79f4e9f8",
   "metadata": {},
   "outputs": [],
   "source": [
    "lib_pred_boy=[]\n",
    "lib_pred_girl=[]\n",
    "iter=0\n",
    "for i in pred:\n",
    "    if(i==1):\n",
    "        lib_pred_girl.append(x_test.index[iter])\n",
    "    else:\n",
    "        lib_pred_boy.append(x_test.index[iter])\n",
    "    iter+=1"
   ]
  },
  {
   "cell_type": "code",
   "execution_count": 86,
   "id": "34873a7b",
   "metadata": {},
   "outputs": [
    {
     "data": {
      "text/plain": [
       "array(['brittani', 'tresa', 'earnestine', 'hallie', 'lani', 'evette',\n",
       "       'skyla', 'charlie', 'mariann', 'kenzie', 'lee', 'estefany',\n",
       "       'stephania', 'graciela', 'art', 'aretha', 'kaden', 'nasir',\n",
       "       'chase', 'vlasta', 'gael', 'stephenie', 'helena', 'letty',\n",
       "       'allyssa', 'cindy', 'rickie', 'stacie', 'zaria', 'nile',\n",
       "       'shaquana', 'lahoma', 'lala', 'enid', 'jase', 'brittany', 'tiesha',\n",
       "       'desean', 'vinie', 'rosaline', 'destin', 'shyheim', 'reginal',\n",
       "       'latoya', 'nell', 'neha', 'nettie', 'trina', 'saige', 'asha',\n",
       "       'migdalia', 'abril', 'aliyah', 'tianna'], dtype='<U10')"
      ]
     },
     "execution_count": 86,
     "metadata": {},
     "output_type": "execute_result"
    }
   ],
   "source": [
    "np.array(lib_pred_girl)"
   ]
  },
  {
   "cell_type": "code",
   "execution_count": 87,
   "id": "290d65d3",
   "metadata": {},
   "outputs": [
    {
     "data": {
      "text/plain": [
       "array(['brandin', 'darry', 'fabiola', 'wirt', 'thurston', 'lindbergh',\n",
       "       'cornel', 'burdette', 'renard', 'joella', 'alwilda', 'glen',\n",
       "       'grove', 'foster', 'maury', 'bynum', 'ruie', 'jerry', 'che',\n",
       "       'birt', 'afton', 'cherelle', 'izora', 'kiefer', 'debora', 'oney',\n",
       "       'toriano', 'roseanne', 'teddie', 'dwyane', 'boyce', 'bose', 'gino',\n",
       "       'lulah', 'geralyn', 'reid', 'dock', 'rolf', 'lonnie', 'cullen',\n",
       "       'chip', 'kerry', 'garrick', 'alston', 'jarred', 'colie'],\n",
       "      dtype='<U9')"
      ]
     },
     "execution_count": 87,
     "metadata": {},
     "output_type": "execute_result"
    }
   ],
   "source": [
    "np.array(lib_pred_boy)"
   ]
  },
  {
   "cell_type": "markdown",
   "id": "77be8f12",
   "metadata": {},
   "source": [
    "<h2>Using libraries and 2,2 gram vectorizer</h2>"
   ]
  },
  {
   "cell_type": "code",
   "execution_count": 88,
   "id": "7d190deb",
   "metadata": {},
   "outputs": [],
   "source": [
    "from sklearn.feature_extraction.text import CountVectorizer\n",
    "char_vectorizer = CountVectorizer(analyzer='char', ngram_range=(3, 3))\n",
    "X = char_vectorizer.fit_transform(data.loc[:,\"name\"])\n",
    "X = X.tocsc()\n",
    "y=data[\"class\"]"
   ]
  },
  {
   "cell_type": "code",
   "execution_count": 89,
   "id": "86b9f014",
   "metadata": {},
   "outputs": [
    {
     "name": "stdout",
     "output_type": "stream",
     "text": [
      "  (460, 0)\t1\n",
      "  (264, 1)\t1\n",
      "  (1002, 1)\t1\n",
      "  (991, 2)\t1\n",
      "  (405, 3)\t1\n",
      "  (542, 3)\t1\n",
      "  (138, 4)\t1\n",
      "  (432, 4)\t1\n",
      "  (912, 4)\t1\n",
      "  (1226, 4)\t1\n",
      "  (1771, 4)\t1\n",
      "  (1960, 4)\t1\n",
      "  (1701, 5)\t1\n",
      "  (141, 6)\t1\n",
      "  (51, 7)\t1\n",
      "  (192, 7)\t1\n",
      "  (476, 7)\t1\n",
      "  (1012, 7)\t1\n",
      "  (1121, 8)\t1\n",
      "  (359, 9)\t1\n",
      "  (873, 9)\t1\n",
      "  (1525, 9)\t1\n",
      "  (1859, 9)\t1\n",
      "  (1900, 9)\t1\n",
      "  (1987, 9)\t1\n",
      "  :\t:\n",
      "  (1076, 1936)\t1\n",
      "  (1167, 1936)\t1\n",
      "  (691, 1937)\t1\n",
      "  (314, 1938)\t1\n",
      "  (273, 1939)\t1\n",
      "  (598, 1939)\t1\n",
      "  (886, 1939)\t1\n",
      "  (1093, 1939)\t1\n",
      "  (1752, 1939)\t1\n",
      "  (465, 1940)\t1\n",
      "  (685, 1941)\t1\n",
      "  (1837, 1942)\t1\n",
      "  (707, 1943)\t1\n",
      "  (1116, 1943)\t1\n",
      "  (404, 1944)\t1\n",
      "  (47, 1945)\t1\n",
      "  (444, 1945)\t1\n",
      "  (1980, 1946)\t1\n",
      "  (1710, 1947)\t1\n",
      "  (1279, 1948)\t1\n",
      "  (1360, 1949)\t1\n",
      "  (1602, 1949)\t1\n",
      "  (1982, 1950)\t1\n",
      "  (1517, 1951)\t1\n",
      "  (1188, 1952)\t1\n"
     ]
    }
   ],
   "source": [
    "print(X)"
   ]
  },
  {
   "cell_type": "code",
   "execution_count": 90,
   "id": "9b4384f4",
   "metadata": {},
   "outputs": [],
   "source": [
    "itrain, itest = train_test_split(range(data.shape[0]), train_size=0.7)\n",
    "mask=np.ones(data.shape[0], dtype='int')\n",
    "mask[itrain]=1\n",
    "mask[itest]=0\n",
    "mask = (mask==1)"
   ]
  },
  {
   "cell_type": "code",
   "execution_count": 91,
   "id": "408f21f7",
   "metadata": {
    "scrolled": true
   },
   "outputs": [
    {
     "name": "stdout",
     "output_type": "stream",
     "text": [
      "0.8885714285714286\n",
      "0.6966666666666667\n"
     ]
    }
   ],
   "source": [
    "Xtrainthis=X[mask]\n",
    "Ytrainthis=y[mask]\n",
    "Xtestthis=X[~mask]\n",
    "Ytestthis=y[~mask]\n",
    "clf = MultinomialNB(alpha = 1)\n",
    "clf.fit(Xtrainthis, Ytrainthis)\n",
    "training_accuracy = clf.score(Xtrainthis,Ytrainthis)\n",
    "test_accuracy = clf.score(Xtestthis,Ytestthis)\n",
    "        \n",
    "print(training_accuracy)\n",
    "print(test_accuracy)"
   ]
  },
  {
   "cell_type": "code",
   "execution_count": 92,
   "id": "68e04ece",
   "metadata": {},
   "outputs": [],
   "source": [
    "def lookup(x):\n",
    "    str(x)\n",
    "    new = char_vectorizer.transform([x])\n",
    "    y_pred = clf.predict(new)\n",
    "    if (y_pred == 1):\n",
    "        return 1\n",
    "    else:\n",
    "        return -1"
   ]
  },
  {
   "cell_type": "code",
   "execution_count": 93,
   "id": "f4911994",
   "metadata": {},
   "outputs": [],
   "source": [
    "test_data=pd.read_csv(\"test_names.csv\")\n",
    "test_data=test_data.loc[:,[\"x\"]]\n",
    "genders=[]\n",
    "for i in range(test_data.shape[0]):\n",
    "    genders.append(lookup(test_data.loc[i,\"x\"]))\n",
    "    "
   ]
  },
  {
   "cell_type": "code",
   "execution_count": 94,
   "id": "705a52d6",
   "metadata": {},
   "outputs": [],
   "source": [
    "test_data[\"genders\"]=genders"
   ]
  },
  {
   "cell_type": "code",
   "execution_count": 95,
   "id": "159316c4",
   "metadata": {
    "scrolled": true
   },
   "outputs": [
    {
     "data": {
      "text/html": [
       "<div>\n",
       "<style scoped>\n",
       "    .dataframe tbody tr th:only-of-type {\n",
       "        vertical-align: middle;\n",
       "    }\n",
       "\n",
       "    .dataframe tbody tr th {\n",
       "        vertical-align: top;\n",
       "    }\n",
       "\n",
       "    .dataframe thead th {\n",
       "        text-align: right;\n",
       "    }\n",
       "</style>\n",
       "<table border=\"1\" class=\"dataframe\">\n",
       "  <thead>\n",
       "    <tr style=\"text-align: right;\">\n",
       "      <th></th>\n",
       "      <th>x</th>\n",
       "      <th>genders</th>\n",
       "    </tr>\n",
       "  </thead>\n",
       "  <tbody>\n",
       "    <tr>\n",
       "      <th>0</th>\n",
       "      <td>Brittani</td>\n",
       "      <td>1</td>\n",
       "    </tr>\n",
       "    <tr>\n",
       "      <th>1</th>\n",
       "      <td>Brandin</td>\n",
       "      <td>-1</td>\n",
       "    </tr>\n",
       "    <tr>\n",
       "      <th>2</th>\n",
       "      <td>Darry</td>\n",
       "      <td>-1</td>\n",
       "    </tr>\n",
       "    <tr>\n",
       "      <th>3</th>\n",
       "      <td>Tresa</td>\n",
       "      <td>-1</td>\n",
       "    </tr>\n",
       "    <tr>\n",
       "      <th>4</th>\n",
       "      <td>Fabiola</td>\n",
       "      <td>1</td>\n",
       "    </tr>\n",
       "    <tr>\n",
       "      <th>...</th>\n",
       "      <td>...</td>\n",
       "      <td>...</td>\n",
       "    </tr>\n",
       "    <tr>\n",
       "      <th>95</th>\n",
       "      <td>Migdalia</td>\n",
       "      <td>1</td>\n",
       "    </tr>\n",
       "    <tr>\n",
       "      <th>96</th>\n",
       "      <td>Abril</td>\n",
       "      <td>1</td>\n",
       "    </tr>\n",
       "    <tr>\n",
       "      <th>97</th>\n",
       "      <td>Aliyah</td>\n",
       "      <td>1</td>\n",
       "    </tr>\n",
       "    <tr>\n",
       "      <th>98</th>\n",
       "      <td>Tianna</td>\n",
       "      <td>1</td>\n",
       "    </tr>\n",
       "    <tr>\n",
       "      <th>99</th>\n",
       "      <td>Colie</td>\n",
       "      <td>1</td>\n",
       "    </tr>\n",
       "  </tbody>\n",
       "</table>\n",
       "<p>100 rows × 2 columns</p>\n",
       "</div>"
      ],
      "text/plain": [
       "           x  genders\n",
       "0   Brittani        1\n",
       "1    Brandin       -1\n",
       "2      Darry       -1\n",
       "3      Tresa       -1\n",
       "4    Fabiola        1\n",
       "..       ...      ...\n",
       "95  Migdalia        1\n",
       "96     Abril        1\n",
       "97    Aliyah        1\n",
       "98    Tianna        1\n",
       "99     Colie        1\n",
       "\n",
       "[100 rows x 2 columns]"
      ]
     },
     "execution_count": 95,
     "metadata": {},
     "output_type": "execute_result"
    }
   ],
   "source": [
    "test_data"
   ]
  },
  {
   "cell_type": "code",
   "execution_count": 96,
   "id": "06baf538",
   "metadata": {},
   "outputs": [],
   "source": [
    "pred_boys=test_data.loc[test_data[\"genders\"]==-1,\"x\"]\n",
    "pred_girls=test_data.loc[test_data[\"genders\"]==1,\"x\"]"
   ]
  },
  {
   "cell_type": "code",
   "execution_count": 97,
   "id": "fb30f29a",
   "metadata": {
    "scrolled": true
   },
   "outputs": [
    {
     "data": {
      "text/plain": [
       "array(['Brittani', 'Fabiola', 'Wirt', 'Hallie', 'Lani', 'Evette',\n",
       "       'Lindbergh', 'Skyla', 'Charlie', 'Burdette', 'Mariann', 'Lee',\n",
       "       'Joella', 'Estefany', 'Alwilda', 'Stephania', 'Glen', 'Graciela',\n",
       "       'Nasir', 'Chase', 'Vlasta', 'Che', 'Stephenie', 'Helena', 'Birt',\n",
       "       'Letty', 'Cherelle', 'Izora', 'Allyssa', 'Cindy', 'Stacie',\n",
       "       'Zaria', 'Toriano', 'Roseanne', 'Nile', 'Shaquana', 'Dwyane',\n",
       "       'Lahoma', 'Boyce', 'Lala', 'Enid', 'Jase', 'Brittany', 'Tiesha',\n",
       "       'Gino', 'Lulah', 'Geralyn', 'Desean', 'Rosaline', 'Destin', 'Reid',\n",
       "       'Shyheim', 'Reginal', 'Nell', 'Lonnie', 'Cullen', 'Nettie',\n",
       "       'Trina', 'Asha', 'Migdalia', 'Abril', 'Aliyah', 'Tianna', 'Colie'],\n",
       "      dtype=object)"
      ]
     },
     "execution_count": 97,
     "metadata": {},
     "output_type": "execute_result"
    }
   ],
   "source": [
    "np.array(pred_girls)"
   ]
  },
  {
   "cell_type": "code",
   "execution_count": 98,
   "id": "352808e0",
   "metadata": {
    "scrolled": true
   },
   "outputs": [
    {
     "data": {
      "text/plain": [
       "array(['Brandin', 'Darry', 'Tresa', 'Earnestine', 'Thurston', 'Cornel',\n",
       "       'Renard', 'Kenzie', 'Grove', 'Foster', 'Art', 'Aretha', 'Maury',\n",
       "       'Bynum', 'Kaden', 'Ruie', 'Jerry', 'Gael', 'Afton', 'Kiefer',\n",
       "       'Debora', 'Rickie', 'Oney', 'Teddie', 'Bose', 'Vinie', 'Dock',\n",
       "       'Rolf', 'Latoya', 'Neha', 'Chip', 'Kerry', 'Garrick', 'Saige',\n",
       "       'Alston', 'Jarred'], dtype=object)"
      ]
     },
     "execution_count": 98,
     "metadata": {},
     "output_type": "execute_result"
    }
   ],
   "source": [
    "np.array(pred_boys)"
   ]
  },
  {
   "cell_type": "code",
   "execution_count": 99,
   "id": "237d3591",
   "metadata": {},
   "outputs": [],
   "source": [
    "output_girls = pd.DataFrame(pred_girls)\n",
    "output_girls[\"gender\"]=\"girl\"\n",
    "output_girls\n",
    "\n",
    "output_boys = pd.DataFrame(pred_boys)\n",
    "output_boys[\"gender\"]=\"boy\"\n",
    "output_boys\n",
    "\n",
    "output=output_boys.append(output_girls)\n",
    "output.shape\n",
    "output.to_csv(\"second_model.csv\",index=False)"
   ]
  },
  {
   "cell_type": "markdown",
   "id": "d979b291",
   "metadata": {},
   "source": [
    "<h3> Question 4 </h3>\n",
    "\n",
    "<b>a) Can you describe scenarios when the above equality doesn't hold? Give an example when the left side\n",
    "is bigger than the right side? Give another example when the right side is bigger than the left side?</b>\n",
    "$$\n",
    "P(X=x|Y=y) = \\prod_{\\alpha}P(x_{\\alpha}|y)\n",
    "$$\n",
    "<b>Ans:</b> The equality doesn't hold when conditional independance between the features fail. That means, \n",
    "$y$ doesn't make $x_{\\alpha}$ independant $\\forall \\alpha \\in D$. \n",
    "\n",
    "Let's look at an example where left > right:\n",
    "\n",
    "Say $X_1, X_2, X_3$ denote the outcome of 3 coin flips.\n",
    "$X_i \\in \\{H,T\\} \\forall i \\in {1,2,3}$ \n",
    "\n",
    "Let $y$ be a random variable, counting the number of heads of the 3 coin flips. This gives, \n",
    "$$y \\in \\{0,1,2,3\\}$$\n",
    "\n",
    "Now we know that $X_1, X_2, X_3$ are independent to each other. If, I put a condition on y, that will make them dependant. \n",
    "Let's compute the below:\n",
    "$$ P(X_1=H, X_2=H,X_3=T|y=2)$$\n",
    "\n",
    "We know for 3 coin flips, possible outcomes are \n",
    "$$HHH$$\n",
    "$$HHT$$\n",
    "$$HTH$$\n",
    "$$THH$$\n",
    "$$HTT$$\n",
    "$$THT$$\n",
    "$$TTH$$\n",
    "$$TTT$$\n",
    "\n",
    "Out of these, y=2 implies the outcome is one of $\\{HHT, HTH,THH\\}$\n",
    "\n",
    "So, $ P(X_1=H, X_2=H,X_3=T|y=2) = 1/3 $\n",
    "\n",
    "Now, for right side of the equation, $$\\prod_{\\alpha}P(x_{\\alpha}|y=2) = P(X1=H|y=2)*P(X2=H|y=2)*P(X3=T|y=2)$$ \n",
    "$$= 2/3*2/3*1/3 = 4/27 < 1/3 \\textrm{ (Left value) } $$\n",
    "\n",
    "Now, let me give an example where right > left:\n",
    "\n",
    "Take the sceanrio of  $ P(X_1=H, X_2=H,X_3=T|y=1)$\n",
    "\n",
    " $y=1$ implies the outcome is one of $\\{HTT, TTH,THT\\}$\n",
    " \n",
    " So, $ P(X_1=H, X_2=H,X_3=T|y=1) = 0 $\n",
    "\n",
    "But, $$\\prod_{\\alpha}P(x_{\\alpha}|y=1) = P(X1=H|y=1)*P(X2=H|y=1)*P(X3=T|y=1)$$ \n",
    "$$1/3*1/3*2/3=2/27 > 0 \\textrm{ (right side) }$$\n",
    "\n",
    "\n",
    "<b> b) Now consider a different model, which we will call the \"full\" model, in which all the features are fully\n",
    "dependent (i.e., we make no factorization assumptions). How might we represent $p(x|y = c)$ in this\n",
    "case? How many parameters are needed to represent $p(x|y = c)$?</b>\n",
    "\n",
    "The Full model can be represented like a fully joint distribution with condtional factor. It will be like below.\n",
    "$$\n",
    "P(X=(x_1,x_2...x_d)|y=c) = \\\\P(X_1=x_1|X_2=x_2,X_3=x_3,...X_d=x_d,y=c) \\times\\\\\n",
    "                           P(X_2=x_2|X_3=x_3,...X_d=x_d,y=c)\\times\\\\\n",
    "                           .\\\\\n",
    "                           .\\\\\n",
    "                           P(X_d=x_d|y=c) \n",
    "$$\n",
    "\n",
    "\n",
    "We have the number of parameters within each class as = $2^{d-1}+2^{d-2}+....+2+1 = 2^{d+1}-1 = O(2^d)$\n",
    "For $c$ classes, the same would be $c(O(2^d))$\n",
    "\n",
    "\n",
    "\n",
    "<br>\n",
    "<b>\n",
    "c) Assume the number of features D is fixed. Let there be N training cases. If the sample size N is very\n",
    "small, which model (naive Bayes or full) is likely to give lower test set error, and why?\n",
    "</b>\n",
    "\n",
    "For small $N$, naive bayes would perform better on test set as it doesn't build strong relationships with data unlike full model. So full model might overfit for small $N$ and Naive bayes will outperform full model. "
   ]
  },
  {
   "cell_type": "markdown",
   "id": "5a31a8bc",
   "metadata": {},
   "source": [
    "References:\n",
    "<br>\n",
    "https://www.cs.toronto.edu/~guerzhoy/411/lec/W02/python/graddescent2d.html\n",
    "<br>\n",
    "https://www.kaggle.com/springboardroger/naive-bayes-name-gender-classifier"
   ]
  }
 ],
 "metadata": {
  "kernelspec": {
   "display_name": "Python 3",
   "language": "python",
   "name": "python3"
  },
  "language_info": {
   "codemirror_mode": {
    "name": "ipython",
    "version": 3
   },
   "file_extension": ".py",
   "mimetype": "text/x-python",
   "name": "python",
   "nbconvert_exporter": "python",
   "pygments_lexer": "ipython3",
   "version": "3.8.8"
  }
 },
 "nbformat": 4,
 "nbformat_minor": 5
}
